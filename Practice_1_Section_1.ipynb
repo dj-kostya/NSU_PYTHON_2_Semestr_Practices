{
  "nbformat": 4,
  "nbformat_minor": 0,
  "metadata": {
    "colab": {
      "name": "Nosorev_Kostya_19144_Practice_1_Section_1.ipynb",
      "provenance": [],
      "collapsed_sections": [],
      "toc_visible": true,
      "include_colab_link": true
    },
    "kernelspec": {
      "name": "python3",
      "display_name": "Python 3"
    }
  },
  "cells": [
    {
      "cell_type": "markdown",
      "metadata": {
        "id": "view-in-github",
        "colab_type": "text"
      },
      "source": [
        "<a href=\"https://colab.research.google.com/github/dj-kostya/NSU_PYTHON_2_Semestr_Practices/blob/master/Practice_1_Section_1.ipynb\" target=\"_parent\"><img src=\"https://colab.research.google.com/assets/colab-badge.svg\" alt=\"Open In Colab\"/></a>"
      ]
    },
    {
      "cell_type": "markdown",
      "metadata": {
        "id": "sJNZCHE0lW6x",
        "colab_type": "text"
      },
      "source": [
        "# Task 1\n",
        "Accept n number from user and calculate the sum of all number between 1 and n including n\n",
        "## INPUT/OUTPUT\n",
        "*   INPUT: N - number for colculate sum from 1 to n including n\n",
        "*   OUTPUT: Sum of numbers between 1 and n including n\n",
        "\n",
        "## Code\n",
        "\n",
        "\n"
      ]
    },
    {
      "cell_type": "code",
      "metadata": {
        "id": "PGD_NhoOkhM9",
        "colab_type": "code",
        "outputId": "c07b5b9d-a99a-4ddd-8b86-1b4b62c95a47",
        "colab": {
          "base_uri": "https://localhost:8080/",
          "height": 51
        }
      },
      "source": [
        "n = int(input('Enter the n: '))\n",
        "print(f'Sum from 1 to {n} is', sum([i for i in range(1,n+1)]))"
      ],
      "execution_count": 1,
      "outputs": [
        {
          "output_type": "stream",
          "text": [
            "Enter the n: 100\n",
            "Sum from 1 to 100 is 5050\n"
          ],
          "name": "stdout"
        }
      ]
    },
    {
      "cell_type": "markdown",
      "metadata": {
        "id": "vXkXv8yhmpkT",
        "colab_type": "text"
      },
      "source": [
        "# Task 2\n",
        "Display -10 to -1 using for loop\n",
        "## INPUT/OUTPUT\n",
        "*   INPUT: No input\n",
        "*   OUTPUT: All numbers between -10 and -1 including -1\n",
        "\n",
        "## Code"
      ]
    },
    {
      "cell_type": "code",
      "metadata": {
        "id": "T61vOaBbm7U-",
        "colab_type": "code",
        "outputId": "d71d7d15-2277-4501-b8c0-2fd232e7443a",
        "colab": {
          "base_uri": "https://localhost:8080/",
          "height": 187
        }
      },
      "source": [
        "for i in range(-10, 0):\n",
        "  print(i)"
      ],
      "execution_count": 2,
      "outputs": [
        {
          "output_type": "stream",
          "text": [
            "-10\n",
            "-9\n",
            "-8\n",
            "-7\n",
            "-6\n",
            "-5\n",
            "-4\n",
            "-3\n",
            "-2\n",
            "-1\n"
          ],
          "name": "stdout"
        }
      ]
    },
    {
      "cell_type": "markdown",
      "metadata": {
        "id": "iV0-6CM9oaFX",
        "colab_type": "text"
      },
      "source": [
        "# Task 3\n",
        "Given a list iterate it and display numbers which are divisible by 5 and if you find number greater than 120 stop the loop iteration\n",
        "## INPUT/OUTPUT\n",
        "*   INPUT: Elements of list are separated by space\n",
        "*   OUTPUT: Numbers from which devisible by 5, before first number greater 120\n",
        "\n",
        "## Code"
      ]
    },
    {
      "cell_type": "code",
      "metadata": {
        "id": "F1w-zaEVo86y",
        "colab_type": "code",
        "outputId": "94cd73f1-718d-450b-ba4b-af78c1050b7b",
        "colab": {
          "base_uri": "https://localhost:8080/",
          "height": 85
        }
      },
      "source": [
        "original_list = [int(i) for i in input('Enter the list separeted by space: ').strip().split(' ')]\n",
        "for item in original_list:\n",
        "  if item % 5 == 0:\n",
        "    print(item)\n",
        "  if item > 120:\n",
        "    break"
      ],
      "execution_count": 3,
      "outputs": [
        {
          "output_type": "stream",
          "text": [
            "Enter the list separeted by space: 1 12 15 50 21 20 23 123 213 323 40\n",
            "15\n",
            "50\n",
            "20\n"
          ],
          "name": "stdout"
        }
      ]
    },
    {
      "cell_type": "markdown",
      "metadata": {
        "id": "1hKToc2Oq66w",
        "colab_type": "text"
      },
      "source": [
        "# Task 4\n",
        "Print the following pattern\n",
        "\n",
        "\n",
        "```\n",
        "5 4 3 2 1\n",
        "4 3 2 1 \n",
        "3 2 1 \n",
        "2 1 \n",
        "1\n",
        "```\n",
        "\n",
        "## INPUT/OUTPUT\n",
        "*   INPUT: No input\n",
        "*   OUTPUT: Display numbers by following patern\n",
        "\n",
        "## Code"
      ]
    },
    {
      "cell_type": "code",
      "metadata": {
        "id": "j1sd1KrFrapK",
        "colab_type": "code",
        "outputId": "93ce0e2f-9fc9-40c3-fb01-af59d1435b82",
        "colab": {
          "base_uri": "https://localhost:8080/",
          "height": 102
        }
      },
      "source": [
        "for max_number_in_line in range(5, 0, -1):\n",
        "  for line_element in range(max_number_in_line, 0, -1):\n",
        "    print(line_element, end=' ')\n",
        "  print()"
      ],
      "execution_count": 4,
      "outputs": [
        {
          "output_type": "stream",
          "text": [
            "5 4 3 2 1 \n",
            "4 3 2 1 \n",
            "3 2 1 \n",
            "2 1 \n",
            "1 \n"
          ],
          "name": "stdout"
        }
      ]
    },
    {
      "cell_type": "markdown",
      "metadata": {
        "id": "m_oR_azir73W",
        "colab_type": "text"
      },
      "source": [
        "# Task 5\n",
        "Given a number (int) count the total number of digits in a number\n",
        "\n",
        "## INPUT/OUTPUT\n",
        "*   INPUT: Input number \n",
        "*   OUTPUT: Display count digits in following number\n",
        "\n",
        "## Code"
      ]
    },
    {
      "cell_type": "code",
      "metadata": {
        "id": "B-GWwCLesijw",
        "colab_type": "code",
        "outputId": "c0d5a9cf-a919-44d5-febf-682508c20408",
        "colab": {
          "base_uri": "https://localhost:8080/",
          "height": 51
        }
      },
      "source": [
        "n = int(input('Enter the number: '))\n",
        "print(f'Total count of digist in {n}:', len(str(n)))"
      ],
      "execution_count": 5,
      "outputs": [
        {
          "output_type": "stream",
          "text": [
            "Enter the number: 1231231231231313123123\n",
            "Total count of digist in 1231231231231313123123: 22\n"
          ],
          "name": "stdout"
        }
      ]
    },
    {
      "cell_type": "markdown",
      "metadata": {
        "id": "yjzg3H42tgvT",
        "colab_type": "text"
      },
      "source": [
        "# Task 6\n",
        "Reverse the given list using for loop\n",
        "\n",
        "## INPUT/OUTPUT\n",
        "*   INPUT: Elements of list are separated by space\n",
        "*   OUTPUT: Display reversed list separated by space\n",
        "\n",
        "## Code"
      ]
    },
    {
      "cell_type": "code",
      "metadata": {
        "id": "LlyTOF4xtvD0",
        "colab_type": "code",
        "outputId": "805c9c84-69ed-42ab-9853-46100d4e0286",
        "colab": {
          "base_uri": "https://localhost:8080/",
          "height": 51
        }
      },
      "source": [
        "original_list = [int(i) for i in input('Enter the list separeted by space: ').strip().split(' ')]\n",
        "reversed_list = [original_list[index] for index in range(-1, -len(original_list)-1, -1)] # use only for loop\n",
        "reversed_list_v2 = original_list[::-1] # use indexes iteration \n",
        "print(f\"Reversed list of {original_list} is {reversed_list_v2}\")"
      ],
      "execution_count": 6,
      "outputs": [
        {
          "output_type": "stream",
          "text": [
            "Enter the list separeted by space: 1 2 3 4 5\n",
            "Reversed list of [1, 2, 3, 4, 5] is [5, 4, 3, 2, 1]\n"
          ],
          "name": "stdout"
        }
      ]
    },
    {
      "cell_type": "markdown",
      "metadata": {
        "id": "DaywU9BTyr2P",
        "colab_type": "text"
      },
      "source": [
        "# Task 7\n",
        "Display a message “Done” after successful execution of for loop (in one construction)\n",
        "\n",
        "## INPUT/OUTPUT\n",
        "*   INPUT: -\n",
        "*   OUTPUT: Display a message “Done” after successful execution of for loop\n",
        "\n",
        "## Code"
      ]
    },
    {
      "cell_type": "code",
      "metadata": {
        "id": "V0hUWfzSye7q",
        "colab_type": "code",
        "outputId": "1b891350-bc66-4f6a-a52a-4c3dfa7a039c",
        "colab": {
          "base_uri": "https://localhost:8080/",
          "height": 221
        }
      },
      "source": [
        "for i in range(11):\n",
        "  print(i)\n",
        "else:\n",
        "  print(\"Done\")"
      ],
      "execution_count": 10,
      "outputs": [
        {
          "output_type": "stream",
          "text": [
            "0\n",
            "1\n",
            "2\n",
            "3\n",
            "4\n",
            "5\n",
            "6\n",
            "7\n",
            "8\n",
            "9\n",
            "10\n",
            "Done\n"
          ],
          "name": "stdout"
        }
      ]
    },
    {
      "cell_type": "code",
      "metadata": {
        "colab_type": "code",
        "outputId": "550e44ea-83f4-4638-b528-1267c6a61bbb",
        "id": "sfi1dPDLz_qJ",
        "colab": {
          "base_uri": "https://localhost:8080/",
          "height": 136
        }
      },
      "source": [
        "for i in range(11):\n",
        "  print(i)\n",
        "  if i == 5:\n",
        "    print('Time to break')\n",
        "    break\n",
        "else:\n",
        "  print(\"Done\")"
      ],
      "execution_count": 12,
      "outputs": [
        {
          "output_type": "stream",
          "text": [
            "0\n",
            "1\n",
            "2\n",
            "3\n",
            "4\n",
            "5\n",
            "Time to break\n"
          ],
          "name": "stdout"
        }
      ]
    }
  ]
}