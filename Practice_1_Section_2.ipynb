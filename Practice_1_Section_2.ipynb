{
  "nbformat": 4,
  "nbformat_minor": 0,
  "metadata": {
    "colab": {
      "name": "Nosorev_Kostya_19144_Practice_1_Section_2.ipynb",
      "provenance": [],
      "authorship_tag": "ABX9TyMjUKl5biDj0N/htJ+zM5pN",
      "include_colab_link": true
    },
    "kernelspec": {
      "name": "python3",
      "display_name": "Python 3"
    }
  },
  "cells": [
    {
      "cell_type": "markdown",
      "metadata": {
        "id": "view-in-github",
        "colab_type": "text"
      },
      "source": [
        "<a href=\"https://colab.research.google.com/github/dj-kostya/NSU_PYTHON_2_Semestr_Practices/blob/master/Practice_1_Section_2.ipynb\" target=\"_parent\"><img src=\"https://colab.research.google.com/assets/colab-badge.svg\" alt=\"Open In Colab\"/></a>"
      ]
    },
    {
      "cell_type": "markdown",
      "metadata": {
        "id": "bxBJFkOs5VgD",
        "colab_type": "text"
      },
      "source": [
        "# Task 1\n",
        "Write a function calculation() such that it can accept two variables and calculate the addition and subtraction of it. And also it must return both addition and subtraction in a single return call\n",
        "## INPUT/OUTPUT\n",
        "*   INPUT: Two number separated by space\n",
        "*   OUTPUT: Addition and substraction of following number\n",
        "\n",
        "## Code\n",
        "\n",
        "\n"
      ]
    },
    {
      "cell_type": "code",
      "metadata": {
        "id": "KnoU-kJc5O0F",
        "colab_type": "code",
        "colab": {
          "base_uri": "https://localhost:8080/",
          "height": 68
        },
        "outputId": "c11c0621-eb17-47d7-d1fb-3d435a729b41"
      },
      "source": [
        "def calculation(a, b):\n",
        "  return a+b, a-b\n",
        "\n",
        "a, b = input('Enter two numbers separated by space: ').strip().split()\n",
        "a, b= int(a), int(b)\n",
        "addition, substraction = calculation(a, b)\n",
        "print(f\"Addition: {a} + {b} = {addition}\\nSubstraction: {a} - {b} = {substraction}\")"
      ],
      "execution_count": 5,
      "outputs": [
        {
          "output_type": "stream",
          "text": [
            "Enter two numbers separated by space: 123112 123123\n",
            "Addition: 123112 + 123123 = 246235\n",
            "Substraction: 123112 - 123123 = -11\n"
          ],
          "name": "stdout"
        }
      ]
    },
    {
      "cell_type": "markdown",
      "metadata": {
        "colab_type": "text",
        "id": "J56yE7R5_JHf"
      },
      "source": [
        "# Task 2\n",
        "Create a function showEmployee() in such a way that it should accept employee name, and it’s salary and display both, and if the salary is missing in function call it should show it as 9000\n",
        "## INPUT/OUTPUT\n",
        "*   INPUT: No input\n",
        "*   OUTPUT: Display Employee name, and it`s salary\n",
        "\n",
        "## Code\n",
        "\n",
        "\n"
      ]
    },
    {
      "cell_type": "code",
      "metadata": {
        "id": "hEn6QCQi5-rA",
        "colab_type": "code",
        "colab": {
          "base_uri": "https://localhost:8080/",
          "height": 51
        },
        "outputId": "83b2925e-2da8-42d7-f2d2-b1d7f5270ce9"
      },
      "source": [
        "def showEmployee(name, salary=9000):\n",
        "  print(name, salary)\n",
        "\n",
        "showEmployee(name='With salary',salary=5000)\n",
        "showEmployee(name='Without salary')"
      ],
      "execution_count": 9,
      "outputs": [
        {
          "output_type": "stream",
          "text": [
            "With salary 5000\n",
            "Without salary 9000\n"
          ],
          "name": "stdout"
        }
      ]
    },
    {
      "cell_type": "markdown",
      "metadata": {
        "colab_type": "text",
        "id": "uPh9tcCT69zD"
      },
      "source": [
        "# Task 3\n",
        "Write a recursive function to calculate the sum of numbers from 0 to 10\n",
        "\n",
        "## INPUT/OUTPUT\n",
        "*   INPUT: No input\n",
        "*   OUTPUT: Display sum of numbers from 0 to 10\n",
        "\n",
        "## Code\n",
        "\n",
        "\n"
      ]
    },
    {
      "cell_type": "code",
      "metadata": {
        "id": "-D7ia0uI-gKt",
        "colab_type": "code",
        "colab": {
          "base_uri": "https://localhost:8080/",
          "height": 34
        },
        "outputId": "c5749dda-4f15-477f-978e-26a83bfe5d99"
      },
      "source": [
        "def sum_from_0_to_10(cur=0):\n",
        "  if cur == 10:\n",
        "    return 10\n",
        "  return cur + sum_from_0_to_10(cur + 1)\n",
        "\n",
        "print(sum_from_0_to_10()"
      ],
      "execution_count": 10,
      "outputs": [
        {
          "output_type": "stream",
          "text": [
            "55\n"
          ],
          "name": "stdout"
        }
      ]
    },
    {
      "cell_type": "markdown",
      "metadata": {
        "id": "iJNpOr_TAG-R",
        "colab_type": "text"
      },
      "source": [
        "# Task 4\n",
        "Write a function such that it can accept a variable length of argument and print all arguments value\n",
        "## INPUT/OUTPUT\n",
        "*   INPUT: No input\n",
        "*   OUTPUT: Display all arguements of function\n",
        "\n",
        "## Code\n",
        "\n",
        "\n"
      ]
    },
    {
      "cell_type": "code",
      "metadata": {
        "id": "x9m636N6BEw7",
        "colab_type": "code",
        "colab": {
          "base_uri": "https://localhost:8080/",
          "height": 102
        },
        "outputId": "b159394d-0eca-454c-faf6-2e52cb3271b9"
      },
      "source": [
        "def foo(*args):\n",
        "  for arg in args:\n",
        "    print(arg)\n",
        "\n",
        "foo(1, 2, 34, 'asdas', ('dasda',1,max))"
      ],
      "execution_count": 12,
      "outputs": [
        {
          "output_type": "stream",
          "text": [
            "1\n",
            "2\n",
            "34\n",
            "asdas\n",
            "('dasda', 1, <built-in function max>)\n"
          ],
          "name": "stdout"
        }
      ]
    },
    {
      "cell_type": "code",
      "metadata": {
        "id": "Byi0asU5BGmr",
        "colab_type": "code",
        "colab": {}
      },
      "source": [
        ""
      ],
      "execution_count": 0,
      "outputs": []
    },
    {
      "cell_type": "markdown",
      "metadata": {
        "id": "qzR1kN89Bs5N",
        "colab_type": "text"
      },
      "source": [
        "# Task 5\n",
        "Assign a different name to function and call it through the new name\n",
        "## INPUT/OUTPUT\n",
        "*   INPUT: No input\n",
        "*   OUTPUT: Display FOOOOOOO!\n",
        "\n",
        "## Code\n",
        "\n",
        "\n"
      ]
    },
    {
      "cell_type": "code",
      "metadata": {
        "id": "y67tLMuWBtoi",
        "colab_type": "code",
        "colab": {
          "base_uri": "https://localhost:8080/",
          "height": 34
        },
        "outputId": "637da62e-fe22-40e7-dd4b-804304ad3235"
      },
      "source": [
        "def foo():\n",
        "  print('FOOOOOOO!')\n",
        "\n",
        "new_foo = foo\n",
        "new_foo()"
      ],
      "execution_count": 13,
      "outputs": [
        {
          "output_type": "stream",
          "text": [
            "FOOOOOOO!\n"
          ],
          "name": "stdout"
        }
      ]
    },
    {
      "cell_type": "markdown",
      "metadata": {
        "id": "aM3z6a5nCFox",
        "colab_type": "text"
      },
      "source": [
        "# Task 6\n",
        "Generate a Python list of all the even numbers between 4 to 40\n",
        "## INPUT/OUTPUT\n",
        "*   INPUT: No input\n",
        "*   OUTPUT: Generated list\n",
        "\n",
        "## Code\n",
        "\n",
        "\n"
      ]
    },
    {
      "cell_type": "code",
      "metadata": {
        "id": "y9GWs9AyCGFX",
        "colab_type": "code",
        "colab": {
          "base_uri": "https://localhost:8080/",
          "height": 34
        },
        "outputId": "77156404-0b23-409b-aca0-2f91ccb017bb"
      },
      "source": [
        "print([i for i in range(4,41, 2)])"
      ],
      "execution_count": 15,
      "outputs": [
        {
          "output_type": "stream",
          "text": [
            "[4, 6, 8, 10, 12, 14, 16, 18, 20, 22, 24, 26, 28, 30, 32, 34, 36, 38, 40]\n"
          ],
          "name": "stdout"
        }
      ]
    },
    {
      "cell_type": "markdown",
      "metadata": {
        "id": "EVaGwCdQC9YX",
        "colab_type": "text"
      },
      "source": [
        "# Task 7\n",
        "Return the largest item from the given list\n",
        "## INPUT/OUTPUT\n",
        "*   INPUT: No input\n",
        "*   OUTPUT: Largest item in given list\n",
        "\n",
        "## Code\n",
        "\n",
        "\n"
      ]
    },
    {
      "cell_type": "code",
      "metadata": {
        "id": "NQx56h-KDGkB",
        "colab_type": "code",
        "colab": {
          "base_uri": "https://localhost:8080/",
          "height": 34
        },
        "outputId": "a7d7b0af-d05d-4e4c-8741-28bc8ed04e9b"
      },
      "source": [
        "original_list = [1, 2, 4, 5, 6]\n",
        "print(max(original_list))"
      ],
      "execution_count": 16,
      "outputs": [
        {
          "output_type": "stream",
          "text": [
            "6\n"
          ],
          "name": "stdout"
        }
      ]
    }
  ]
}