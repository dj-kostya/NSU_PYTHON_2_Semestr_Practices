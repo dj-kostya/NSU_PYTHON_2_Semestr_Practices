{
  "nbformat": 4,
  "nbformat_minor": 0,
  "metadata": {
    "colab": {
      "name": "Nosorev_Kostya_19144_Practice_1_Section_3.ipynb",
      "provenance": [],
      "authorship_tag": "ABX9TyMzf60EjdGKq43U5woiKSUD",
      "include_colab_link": true
    },
    "kernelspec": {
      "name": "python3",
      "display_name": "Python 3"
    }
  },
  "cells": [
    {
      "cell_type": "markdown",
      "metadata": {
        "id": "view-in-github",
        "colab_type": "text"
      },
      "source": [
        "<a href=\"https://colab.research.google.com/github/dj-kostya/NSU_PYTHON_2_Semestr_Practices/blob/master/Practice_1_Section_3.ipynb\" target=\"_parent\"><img src=\"https://colab.research.google.com/assets/colab-badge.svg\" alt=\"Open In Colab\"/></a>"
      ]
    },
    {
      "cell_type": "markdown",
      "metadata": {
        "id": "m2wOOZVMEeSk",
        "colab_type": "text"
      },
      "source": [
        "# Task 1\n",
        "Given a string of odd length, return a string made of the middle three chars of a given String\n",
        "## INPUT/OUTPUT\n",
        "*   INPUT: String of odd length\n",
        "*   OUTPUT: string made of the middle three chars of a given String\n",
        "\n",
        "## Code\n",
        "\n",
        "\n"
      ]
    },
    {
      "cell_type": "code",
      "metadata": {
        "id": "z-9RopMjESYg",
        "colab_type": "code",
        "outputId": "0cfb4501-cab3-4c73-8444-63f8b0075403",
        "colab": {
          "base_uri": "https://localhost:8080/",
          "height": 51
        }
      },
      "source": [
        "base_string = input(\"Enter string of odd len: \").strip()\n",
        "len_of_string = len(base_string)\n",
        "if len_of_string % 2 == 0:\n",
        "  raise ValueError(\"I need odd len string\")\n",
        "print('Three middle chars is', base_string[(len_of_string-1)//2 - 1:(len_of_string-1)//2 + 2])"
      ],
      "execution_count": 0,
      "outputs": [
        {
          "output_type": "stream",
          "text": [
            "Enter string of odd len: 123\n",
            "Three middle chars is  123\n"
          ],
          "name": "stdout"
        }
      ]
    },
    {
      "cell_type": "markdown",
      "metadata": {
        "id": "dw9wRhcsGwWD",
        "colab_type": "text"
      },
      "source": [
        "# Task 2\n",
        "Given 2 strings, s1 and s2, create a new string by appending s2 in the middle of s1\n",
        "\n",
        "## Code\n",
        "\n",
        "\n"
      ]
    },
    {
      "cell_type": "code",
      "metadata": {
        "id": "D40bSr0KGv0H",
        "colab_type": "code",
        "outputId": "1e36756e-4228-4829-8c4a-c4de0ceb022b",
        "colab": {
          "base_uri": "https://localhost:8080/",
          "height": 34
        }
      },
      "source": [
        "s1 = \"abcasdasdasfa\"\n",
        "s2 = \"12312312313\"\n",
        "len_s1 = len(s1)\n",
        "middle_s1 = len(s1)//2\n",
        "print(f\"{s1[:middle_s1]}{s2}{s1[middle_s1:]}\")"
      ],
      "execution_count": 0,
      "outputs": [
        {
          "output_type": "stream",
          "text": [
            "abcasd12312312313asdasfa\n"
          ],
          "name": "stdout"
        }
      ]
    },
    {
      "cell_type": "markdown",
      "metadata": {
        "id": "3Tt9WWq5H6iE",
        "colab_type": "text"
      },
      "source": [
        "# Task 3\n",
        "Arrange String characters such that lowercase letters should come first\n",
        "\n",
        "## Code\n",
        "\n",
        "\n"
      ]
    },
    {
      "cell_type": "code",
      "metadata": {
        "id": "Sc_HSWk3IGpA",
        "colab_type": "code",
        "outputId": "cf984d59-d1e3-4b18-aaf2-eeffc37e8329",
        "colab": {
          "base_uri": "https://localhost:8080/",
          "height": 34
        }
      },
      "source": [
        "s1 = \"asdadadasASdadsASDadsad\"\n",
        "print(\"\".join(sorted(s1,key=str.swapcase)))"
      ],
      "execution_count": 0,
      "outputs": [
        {
          "output_type": "stream",
          "text": [
            "aaaaaaadddddddssssAADSS\n"
          ],
          "name": "stdout"
        }
      ]
    },
    {
      "cell_type": "markdown",
      "metadata": {
        "id": "YarSg9h5JyfH",
        "colab_type": "text"
      },
      "source": [
        "# Task 4\n",
        "Given a string input Count all lower case, upper case, digits, and special symbols\n",
        "## INPUT/OUTPUT\n",
        "*   INPUT: String \n",
        "*   OUTPUT: Count all lower case, upper case, digits, and special symbols\n",
        "\n",
        "## Code\n",
        "\n",
        "\n"
      ]
    },
    {
      "cell_type": "code",
      "metadata": {
        "id": "2IAkbaZ7J5yg",
        "colab_type": "code",
        "outputId": "5cef1a1e-6ad8-46c5-8692-ece9cbed31c3",
        "colab": {
          "base_uri": "https://localhost:8080/",
          "height": 102
        }
      },
      "source": [
        "original_str = input()\n",
        "lower_case = [char for char in original_str if char.islower()]\n",
        "upper_case = [char for char in original_str if char.isupper()]\n",
        "digits = [char for char in original_str if char.isdigit()]\n",
        "\n",
        "print(\"Lower case:\", len(lower_case))\n",
        "print(\"Upper case:\", len(upper_case))\n",
        "print(\"Digits\", len(digits))\n",
        "print(\"Other symbols:\", len(original_str) - len(lower_case) - len(upper_case)-len(digits))"
      ],
      "execution_count": 0,
      "outputs": [
        {
          "output_type": "stream",
          "text": [
            "123131weqweqweWEQEW@E!@#ddasd343\n",
            "Lower case: 13\n",
            "Upper case: 6\n",
            "Digits 9\n",
            "Other symbols: 4\n"
          ],
          "name": "stdout"
        }
      ]
    },
    {
      "cell_type": "markdown",
      "metadata": {
        "id": "DXBMdVSIMd_t",
        "colab_type": "text"
      },
      "source": [
        "# Task 5\n",
        "Find all occurrences of \"Python\" in given string ignoring the case\n",
        "## INPUT/OUTPUT\n",
        "*   INPUT: String \n",
        "*   OUTPUT: Count occurrences of \"Python\" in given string\n",
        "\n",
        "## Code\n"
      ]
    },
    {
      "cell_type": "code",
      "metadata": {
        "id": "_mD3reajNW21",
        "colab_type": "code",
        "colab": {
          "base_uri": "https://localhost:8080/",
          "height": 51
        },
        "outputId": "a2a79341-208e-4a57-af32-56309642920a"
      },
      "source": [
        "input_str = input()\n",
        "lower_str = input_str.lower()\n",
        "print(f\"Count 'Python' in '{input_str}' is {lower_str.count('python')}\")"
      ],
      "execution_count": 22,
      "outputs": [
        {
          "output_type": "stream",
          "text": [
            "python python PYTHON\n",
            "Count 'Python' in 'python python PYTHON' is 3\n"
          ],
          "name": "stdout"
        }
      ]
    },
    {
      "cell_type": "markdown",
      "metadata": {
        "id": "kwplg26wOzUX",
        "colab_type": "text"
      },
      "source": [
        "# Task 6\n",
        "Given a string, return the sum and average of the digits that appear in the string, ignoring all other characters\n",
        "## INPUT/OUTPUT\n",
        "*   INPUT: String \n",
        "*   OUTPUT: Sum and average of the digits that appear in the string\n",
        "\n",
        "## Code\n"
      ]
    },
    {
      "cell_type": "code",
      "metadata": {
        "id": "Lihtc8brOxGr",
        "colab_type": "code",
        "colab": {
          "base_uri": "https://localhost:8080/",
          "height": 68
        },
        "outputId": "0856ec64-4429-41ec-cc9b-dae987a35b18"
      },
      "source": [
        "input_str = input()\n",
        "digits = [int(char) for char in input_str if char.isdigit()]\n",
        "print(\"Sum is\", sum(digits))\n",
        "print(\"Average is\", sum(digits)/len(digits))"
      ],
      "execution_count": 26,
      "outputs": [
        {
          "output_type": "stream",
          "text": [
            "5waweawe2\n",
            "Sum is 7\n",
            "Average is 3.5\n"
          ],
          "name": "stdout"
        }
      ]
    },
    {
      "cell_type": "markdown",
      "metadata": {
        "id": "3Z4s9tl9Pk45",
        "colab_type": "text"
      },
      "source": [
        "# Task 7\n",
        "Given an input string, count occurrences of all characters within a string\n",
        "## INPUT/OUTPUT\n",
        "*   INPUT: String \n",
        "*   OUTPUT: Count occurrences of all characters within a string\n",
        "\n",
        "## Code\n"
      ]
    },
    {
      "cell_type": "code",
      "metadata": {
        "id": "NfL9QbyNP5Am",
        "colab_type": "code",
        "colab": {
          "base_uri": "https://localhost:8080/",
          "height": 187
        },
        "outputId": "da406297-cc0a-4329-f00d-a79c77e8cb78"
      },
      "source": [
        "input_str = input()\n",
        "all_chars = list(set(input_str))\n",
        "for char in sorted(all_chars):\n",
        "  print(f\"'{char}': {input_str.count(char)}\")"
      ],
      "execution_count": 33,
      "outputs": [
        {
          "output_type": "stream",
          "text": [
            "@asdasd123!!!$$$$\n",
            "'!': 3\n",
            "'$': 4\n",
            "'1': 1\n",
            "'2': 1\n",
            "'3': 1\n",
            "'@': 1\n",
            "'a': 2\n",
            "'d': 2\n",
            "'s': 2\n"
          ],
          "name": "stdout"
        }
      ]
    }
  ]
}