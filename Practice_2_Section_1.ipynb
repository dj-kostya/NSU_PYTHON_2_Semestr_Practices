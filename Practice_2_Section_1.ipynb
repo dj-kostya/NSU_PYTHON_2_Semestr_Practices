{
  "nbformat": 4,
  "nbformat_minor": 0,
  "metadata": {
    "colab": {
      "name": "Nosorev_Kostya_19144_Practice_2_Section_1.ipynb",
      "provenance": [],
      "authorship_tag": "ABX9TyPSSaV/nJPcKAHG72uwTVYz",
      "include_colab_link": true
    },
    "kernelspec": {
      "name": "python3",
      "display_name": "Python 3"
    }
  },
  "cells": [
    {
      "cell_type": "markdown",
      "metadata": {
        "id": "view-in-github",
        "colab_type": "text"
      },
      "source": [
        "<a href=\"https://colab.research.google.com/github/dj-kostya/NSU_PYTHON_2_Semestr_Practices/blob/master/Practice_2_Section_1.ipynb\" target=\"_parent\"><img src=\"https://colab.research.google.com/assets/colab-badge.svg\" alt=\"Open In Colab\"/></a>"
      ]
    },
    {
      "cell_type": "markdown",
      "metadata": {
        "id": "3ZfGl_uESLGr",
        "colab_type": "text"
      },
      "source": [
        "# Task 1\n",
        "Given a Python list. Turn every item of a list into its square root\n",
        "## INPUT/OUTPUT\n",
        "*   INPUT: No input\n",
        "*   OUTPUT: List of square roots\n",
        "\n",
        "## Code\n",
        "\n",
        "\n"
      ]
    },
    {
      "cell_type": "code",
      "metadata": {
        "id": "T5OoLinuSFsk",
        "colab_type": "code",
        "colab": {
          "base_uri": "https://localhost:8080/",
          "height": 34
        },
        "outputId": "31f9dee6-1b2f-4ea2-e60c-9f479e0bd5a1"
      },
      "source": [
        "from math import sqrt\n",
        "following_list = [1, 2,3,4,5,6]\n",
        "print([sqrt(i) for i in following_list])"
      ],
      "execution_count": 1,
      "outputs": [
        {
          "output_type": "stream",
          "text": [
            "[1.0, 1.4142135623730951, 1.7320508075688772, 2.0, 2.23606797749979, 2.449489742783178]\n"
          ],
          "name": "stdout"
        }
      ]
    },
    {
      "cell_type": "markdown",
      "metadata": {
        "colab_type": "text",
        "id": "5hOaW9WnSvYA"
      },
      "source": [
        "# Task 2\n",
        "Concatenate two lists with string items index-wise\n",
        "## INPUT/OUTPUT\n",
        "*   INPUT: No input\n",
        "*   OUTPUT: New list\n",
        "\n",
        "## Code\n",
        "\n",
        "\n"
      ]
    },
    {
      "cell_type": "code",
      "metadata": {
        "id": "1zbPWQE_TDqj",
        "colab_type": "code",
        "colab": {
          "base_uri": "https://localhost:8080/",
          "height": 34
        },
        "outputId": "95a16802-dcc6-4796-9e25-efa68c75316f"
      },
      "source": [
        "list_1 = ['aa', 'bb', 'cc', 'dd', '555']\n",
        "list_2 = ['aaaa', 'bbbb', 'cccc', 'dddd']\n",
        "print([ list_1[i] + list_2[i] for i in range(min(len(list_1), len(list_2))) ])"
      ],
      "execution_count": 3,
      "outputs": [
        {
          "output_type": "stream",
          "text": [
            "['aaaaaa', 'bbbbbb', 'cccccc', 'dddddd']\n"
          ],
          "name": "stdout"
        }
      ]
    },
    {
      "cell_type": "markdown",
      "metadata": {
        "id": "O57j_yNiTgAU",
        "colab_type": "text"
      },
      "source": [
        "# Task 3\n",
        "Given a two Python list. Iterate both lists simultaneously such that list1 should display item in original order and list2 in reverse order\n",
        "## INPUT/OUTPUT\n",
        "*   INPUT: No input\n",
        "*   OUTPUT: New list\n",
        "\n",
        "## Code\n",
        "\n",
        "\n"
      ]
    },
    {
      "cell_type": "code",
      "metadata": {
        "id": "bHRlE1zdUDie",
        "colab_type": "code",
        "colab": {
          "base_uri": "https://localhost:8080/",
          "height": 51
        },
        "outputId": "f533917e-e7d1-46be-a6f1-860f1f0fb5e6"
      },
      "source": [
        "list_1 = [12,323123,12312,3123,123]\n",
        "list_2 = [2131,123123,21312,2112,2112,21121212]\n",
        "len1 = len(list_1)\n",
        "len2 = len(list_2)\n",
        "new_list_1 = []\n",
        "new_list_2 = []\n",
        "for i in range(max(len1, len2)):\n",
        "  if i < len1:\n",
        "    new_list_1.append(list_1[i])\n",
        "  if i < len2:\n",
        "    new_list_2.append(list_2[-(i+1)])\n",
        "print(new_list_1)\n",
        "print(new_list_2)  "
      ],
      "execution_count": 5,
      "outputs": [
        {
          "output_type": "stream",
          "text": [
            "[12, 323123, 12312, 3123, 123]\n",
            "[21121212, 2112, 2112, 21312, 123123, 2131]\n"
          ],
          "name": "stdout"
        }
      ]
    },
    {
      "cell_type": "markdown",
      "metadata": {
        "id": "NHnYutl3U82T",
        "colab_type": "text"
      },
      "source": [
        "# Task 4\n",
        "Remove empty strings from the list of strings\n",
        "## INPUT/OUTPUT\n",
        "*   INPUT: List of strings\n",
        "*   OUTPUT: List of strings without empty string\n",
        "\n",
        "## Code\n",
        "\n",
        "\n"
      ]
    },
    {
      "cell_type": "code",
      "metadata": {
        "id": "6JQPUXN_VWcp",
        "colab_type": "code",
        "colab": {
          "base_uri": "https://localhost:8080/",
          "height": 34
        },
        "outputId": "c15f78ac-4b97-41c3-d2e9-15dee5a1cc0d"
      },
      "source": [
        "list_strings = ['dasd', '', '   ',' 3123', 'sadsad']\n",
        "print([string for string in list_strings if string != ''])"
      ],
      "execution_count": 6,
      "outputs": [
        {
          "output_type": "stream",
          "text": [
            "['dasd', '   ', ' 3123', 'sadsad']\n"
          ],
          "name": "stdout"
        }
      ]
    },
    {
      "cell_type": "markdown",
      "metadata": {
        "id": "l3zmKUChWMEP",
        "colab_type": "text"
      },
      "source": [
        "# Task 5\n",
        "Add item 7000 after 6000 in the following Python List\n",
        "## INPUT/OUTPUT\n",
        "*   INPUT: No input\n",
        "*   OUTPUT: New list\n",
        "\n",
        "## Code\n"
      ]
    },
    {
      "cell_type": "code",
      "metadata": {
        "id": "yxUsoldFWMi5",
        "colab_type": "code",
        "colab": {
          "base_uri": "https://localhost:8080/",
          "height": 34
        },
        "outputId": "af5e811c-3fb8-4471-c939-797b277e9edb"
      },
      "source": [
        "list1 = [10, 20, [300, 400, [5000, 6000], 500], 30, 40]\n",
        "list1[2][2].append(7000)\n",
        "print(list1)"
      ],
      "execution_count": 7,
      "outputs": [
        {
          "output_type": "stream",
          "text": [
            "[10, 20, [300, 400, [5000, 6000, 7000], 500], 30, 40]\n"
          ],
          "name": "stdout"
        }
      ]
    },
    {
      "cell_type": "markdown",
      "metadata": {
        "id": "qmNYTl_NXqbt",
        "colab_type": "text"
      },
      "source": [
        "# Task 6\n",
        "Given a nested list extend it with adding sub list [\"h\", \"i\", \"j\"] in a such a way that it will look like the following list\n",
        "## INPUT/OUTPUT\n",
        "*   INPUT: No input\n",
        "*   OUTPUT: New list\n",
        "\n",
        "## Code\n"
      ]
    },
    {
      "cell_type": "code",
      "metadata": {
        "id": "rPuMbGVYXq9i",
        "colab_type": "code",
        "colab": {
          "base_uri": "https://localhost:8080/",
          "height": 34
        },
        "outputId": "08d65894-47ab-4076-fa62-122e193abd43"
      },
      "source": [
        "list1 = ['a', 'b', ['c', ['d', 'e', ['f', 'g'], 'k'], 'l'], 'm', 'n']\n",
        "list1[2][1][2].extend([\"h\", \"i\", \"j\"])\n",
        "print(list1)"
      ],
      "execution_count": 8,
      "outputs": [
        {
          "output_type": "stream",
          "text": [
            "['a', 'b', ['c', ['d', 'e', ['f', 'g', 'h', 'i', 'j'], 'k'], 'l'], 'm', 'n']\n"
          ],
          "name": "stdout"
        }
      ]
    },
    {
      "cell_type": "markdown",
      "metadata": {
        "id": "3sSMmeRKalDW",
        "colab_type": "text"
      },
      "source": [
        "# Task 7\n",
        "Given a Python list, find value 20 in the list, and if it is present, replace it with 200. Only update the first occurrence of a value\n",
        "## INPUT/OUTPUT\n",
        "*   INPUT: No input\n",
        "*   OUTPUT: New list\n",
        "\n",
        "## Code\n"
      ]
    },
    {
      "cell_type": "code",
      "metadata": {
        "id": "zfmit0WMakxu",
        "colab_type": "code",
        "colab": {
          "base_uri": "https://localhost:8080/",
          "height": 34
        },
        "outputId": "b696c0d5-c5fb-46c3-c6d8-4df214c5dc6b"
      },
      "source": [
        "list1 = [1, 2,3,4,5,7,3, 20]\n",
        "try:\n",
        "  idx_ = list1.index(20)\n",
        "  list1[idx_] = 200\n",
        "except ValueError:\n",
        "  pass\n",
        "list1  "
      ],
      "execution_count": 11,
      "outputs": [
        {
          "output_type": "execute_result",
          "data": {
            "text/plain": [
              "[1, 2, 3, 4, 5, 7, 3, 200]"
            ]
          },
          "metadata": {
            "tags": []
          },
          "execution_count": 11
        }
      ]
    },
    {
      "cell_type": "markdown",
      "metadata": {
        "id": "mN3l83TwcUjl",
        "colab_type": "text"
      },
      "source": [
        "# Task 8\n",
        "Given a Python list, remove all occurrence of 20 from the list\n",
        "## INPUT/OUTPUT\n",
        "*   INPUT: No input\n",
        "*   OUTPUT: New list\n",
        "\n",
        "## Code\n"
      ]
    },
    {
      "cell_type": "code",
      "metadata": {
        "id": "JtCsLHkVcVfz",
        "colab_type": "code",
        "colab": {
          "base_uri": "https://localhost:8080/",
          "height": 34
        },
        "outputId": "4b70ab82-4c14-48ce-ac48-6d8166cf748d"
      },
      "source": [
        "list1 = [1,2,3,4,20,20,2,2,2]\n",
        "print([i for i in list1 if i != 20])"
      ],
      "execution_count": 12,
      "outputs": [
        {
          "output_type": "stream",
          "text": [
            "[1, 2, 3, 4, 2, 2, 2]\n"
          ],
          "name": "stdout"
        }
      ]
    }
  ]
}