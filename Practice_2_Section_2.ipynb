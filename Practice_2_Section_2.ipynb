{
  "nbformat": 4,
  "nbformat_minor": 0,
  "metadata": {
    "colab": {
      "name": "Practice_2_Section_2.ipynb",
      "provenance": [],
      "authorship_tag": "ABX9TyMHBIIJ1W9Shvrc6XCZLNTh",
      "include_colab_link": true
    },
    "kernelspec": {
      "name": "python3",
      "display_name": "Python 3"
    }
  },
  "cells": [
    {
      "cell_type": "markdown",
      "metadata": {
        "id": "view-in-github",
        "colab_type": "text"
      },
      "source": [
        "<a href=\"https://colab.research.google.com/github/dj-kostya/NSU_PYTHON_2_Semestr_Practices/blob/master/Practice_2_Section_2.ipynb\" target=\"_parent\"><img src=\"https://colab.research.google.com/assets/colab-badge.svg\" alt=\"Open In Colab\"/></a>"
      ]
    },
    {
      "cell_type": "markdown",
      "metadata": {
        "id": "xmKd_1Q6dGu8",
        "colab_type": "text"
      },
      "source": [
        "# Task 1\n",
        "Below are the two lists convert it into the dictionary\n",
        "## INPUT/OUTPUT\n",
        "*   INPUT: No input\n",
        "*   OUTPUT: Dict from two lists\n",
        "\n",
        "## Code\n"
      ]
    },
    {
      "cell_type": "code",
      "metadata": {
        "id": "unjXWJOMdDgw",
        "colab_type": "code",
        "colab": {
          "base_uri": "https://localhost:8080/",
          "height": 34
        },
        "outputId": "1a6b5198-6d92-48b3-a93c-c56b2a93e1ce"
      },
      "source": [
        "dictionary = {}\n",
        "keys = ['a','b','c']\n",
        "values = [1,2,3]\n",
        "for i in range(len(keys)):\n",
        "  dictionary[keys[i]] = values[i]\n",
        "dictionary"
      ],
      "execution_count": 3,
      "outputs": [
        {
          "output_type": "execute_result",
          "data": {
            "text/plain": [
              "{'a': 1, 'b': 2, 'c': 3}"
            ]
          },
          "metadata": {
            "tags": []
          },
          "execution_count": 3
        }
      ]
    },
    {
      "cell_type": "markdown",
      "metadata": {
        "id": "76loTCiNeoAQ",
        "colab_type": "text"
      },
      "source": [
        "# Task 2\n",
        "Merge following two Python dictionaries into one\n",
        "## INPUT/OUTPUT\n",
        "*   INPUT: No input\n",
        "*   OUTPUT: New dict\n",
        "\n",
        "## Code\n",
        "\n"
      ]
    },
    {
      "cell_type": "code",
      "metadata": {
        "id": "AGWrG1u-eoaK",
        "colab_type": "code",
        "colab": {
          "base_uri": "https://localhost:8080/",
          "height": 34
        },
        "outputId": "017d010d-86d4-4de3-e95f-20d696ffc47e"
      },
      "source": [
        "dict1 = {'a':1, 'b':2, 'c':3}\n",
        "dict2 = {'aa':1, 'b2':2, 'c':5}\n",
        "new_dict = dict1.copy()\n",
        "new_dict.update(dict2)\n",
        "new_dict"
      ],
      "execution_count": 5,
      "outputs": [
        {
          "output_type": "execute_result",
          "data": {
            "text/plain": [
              "{'a': 1, 'aa': 1, 'b': 2, 'b2': 2, 'c': 5}"
            ]
          },
          "metadata": {
            "tags": []
          },
          "execution_count": 5
        }
      ]
    },
    {
      "cell_type": "markdown",
      "metadata": {
        "id": "R1ZHF77ufk6Q",
        "colab_type": "text"
      },
      "source": [
        "# Task 3\n",
        "Access the value of key ‘history’\n",
        "## INPUT/OUTPUT\n",
        "*   INPUT: No input\n",
        "*   OUTPUT: Value of \"history\"\n",
        "\n",
        "## Code\n",
        "\n"
      ]
    },
    {
      "cell_type": "code",
      "metadata": {
        "id": "NJwZMBREfkl9",
        "colab_type": "code",
        "colab": {
          "base_uri": "https://localhost:8080/",
          "height": 34
        },
        "outputId": "584d1cdb-b33c-4d62-9afe-bd005caa75a6"
      },
      "source": [
        "sampleDict = { \n",
        "   \"class\":{ \n",
        "      \"student\":{ \n",
        "         \"name\":\"Mike\",\n",
        "         \"marks\":{ \n",
        "            \"physics\":70,\n",
        "            \"history\":80\n",
        "         }\n",
        "      }\n",
        "   }\n",
        "}\n",
        "sampleDict['class']['student']['marks']['history']"
      ],
      "execution_count": 6,
      "outputs": [
        {
          "output_type": "execute_result",
          "data": {
            "text/plain": [
              "80"
            ]
          },
          "metadata": {
            "tags": []
          },
          "execution_count": 6
        }
      ]
    },
    {
      "cell_type": "markdown",
      "metadata": {
        "id": "6esIg3cef9DL",
        "colab_type": "text"
      },
      "source": [
        "# Task 4\n",
        "Initialize dictionary with default values\n",
        "## INPUT/OUTPUT\n",
        "*   INPUT: No input\n",
        "*   OUTPUT: New dictionary\n",
        "\n",
        "## Code\n",
        "\n"
      ]
    },
    {
      "cell_type": "code",
      "metadata": {
        "id": "xpdJOVDQgEW3",
        "colab_type": "code",
        "colab": {
          "base_uri": "https://localhost:8080/",
          "height": 102
        },
        "outputId": "50db55ef-6f41-42e4-e9dc-9a3a2fa87230"
      },
      "source": [
        "dictionary = {}\n",
        "default_value = {'test', 800}\n",
        "keys = [1,2,3,4,5]\n",
        "for key in keys:\n",
        "  dictionary[key] = default_value\n",
        "dictionary"
      ],
      "execution_count": 7,
      "outputs": [
        {
          "output_type": "execute_result",
          "data": {
            "text/plain": [
              "{1: {800, 'test'},\n",
              " 2: {800, 'test'},\n",
              " 3: {800, 'test'},\n",
              " 4: {800, 'test'},\n",
              " 5: {800, 'test'}}"
            ]
          },
          "metadata": {
            "tags": []
          },
          "execution_count": 7
        }
      ]
    },
    {
      "cell_type": "markdown",
      "metadata": {
        "id": "xu25q55Yg9UK",
        "colab_type": "text"
      },
      "source": [
        "# Task 5\n",
        "Create a new dictionary by extracting following keys from a given dictionary\n",
        "## INPUT/OUTPUT\n",
        "*   INPUT: No input\n",
        "*   OUTPUT: New dictionary\n",
        "\n",
        "## Code\n",
        "\n"
      ]
    },
    {
      "cell_type": "code",
      "metadata": {
        "id": "dYuqn9QuhgSe",
        "colab_type": "code",
        "colab": {
          "base_uri": "https://localhost:8080/",
          "height": 34
        },
        "outputId": "7f6d4c0d-8310-4fd1-e8e7-0a862ae782b1"
      },
      "source": [
        "dictionary = {}\n",
        "sampleDict = {\n",
        "    'a' : 1,\n",
        "    'b' : 2,\n",
        "    'c' : 3,\n",
        "}\n",
        "keys = ['a', 'c']\n",
        "for key in keys:\n",
        "  dictionary[key] = sampleDict[key]\n",
        "dictionary"
      ],
      "execution_count": 9,
      "outputs": [
        {
          "output_type": "execute_result",
          "data": {
            "text/plain": [
              "{'a': 1, 'c': 3}"
            ]
          },
          "metadata": {
            "tags": []
          },
          "execution_count": 9
        }
      ]
    },
    {
      "cell_type": "markdown",
      "metadata": {
        "id": "TgicGyecihLA",
        "colab_type": "text"
      },
      "source": [
        "# Task 6\n",
        "Delete set of keys from Python Dictionary\n",
        "## INPUT/OUTPUT\n",
        "*   INPUT: No input\n",
        "*   OUTPUT: New dictionary\n",
        "\n",
        "## Code\n",
        "\n"
      ]
    },
    {
      "cell_type": "code",
      "metadata": {
        "id": "8rCSNKDuiwJR",
        "colab_type": "code",
        "colab": {
          "base_uri": "https://localhost:8080/",
          "height": 34
        },
        "outputId": "2dbd5fdc-ff85-43ed-8ff0-053b515c8c31"
      },
      "source": [
        "dictionary = {}\n",
        "sampleDict = {\n",
        "    'a' : 1,\n",
        "    'b' : 2,\n",
        "    'c' : 3,\n",
        "}\n",
        "keys = ['a', 'c']\n",
        "for key in sampleDict:\n",
        "  if key not in keys:\n",
        "    dictionary[key] = sampleDict[key]\n",
        "dictionary"
      ],
      "execution_count": 10,
      "outputs": [
        {
          "output_type": "execute_result",
          "data": {
            "text/plain": [
              "{'b': 2}"
            ]
          },
          "metadata": {
            "tags": []
          },
          "execution_count": 10
        }
      ]
    },
    {
      "cell_type": "markdown",
      "metadata": {
        "id": "ZtZhdcVAjpF_",
        "colab_type": "text"
      },
      "source": [
        "# Task 7\n",
        "Check if a value 200 exists in a dictionary\n",
        "## INPUT/OUTPUT\n",
        "*   INPUT: No input\n",
        "*   OUTPUT: True/False\n",
        "\n",
        "## Code\n",
        "\n"
      ]
    },
    {
      "cell_type": "code",
      "metadata": {
        "id": "bHD1IspFkPnf",
        "colab_type": "code",
        "colab": {
          "base_uri": "https://localhost:8080/",
          "height": 34
        },
        "outputId": "1b7714b7-5a3c-4bf9-8e15-9659cc84ddf9"
      },
      "source": [
        "sampleDict = {\n",
        "    'a' : 1,\n",
        "    'b' : 4,\n",
        "    'c' : 3,\n",
        "}\n",
        "200 in sampleDict.values()"
      ],
      "execution_count": 12,
      "outputs": [
        {
          "output_type": "execute_result",
          "data": {
            "text/plain": [
              "False"
            ]
          },
          "metadata": {
            "tags": []
          },
          "execution_count": 12
        }
      ]
    },
    {
      "cell_type": "markdown",
      "metadata": {
        "id": "3awkCvYNkzkG",
        "colab_type": "text"
      },
      "source": [
        "# Task 8\n",
        "Rename key ‘city’ to ‘location’ in the following dictionary\n",
        "## INPUT/OUTPUT\n",
        "*   INPUT: No input\n",
        "*   OUTPUT: New dictionary\n",
        "\n",
        "## Code\n",
        "\n"
      ]
    },
    {
      "cell_type": "code",
      "metadata": {
        "id": "cNGr8PhYky-L",
        "colab_type": "code",
        "colab": {
          "base_uri": "https://localhost:8080/",
          "height": 34
        },
        "outputId": "a28ca588-4dbe-4bbd-fbcf-efc58391fd15"
      },
      "source": [
        "sampleDict = {\n",
        "    'city' : 1,\n",
        "    'b' : 4,\n",
        "    'c' : 3,\n",
        "}\n",
        "sampleDict['location'] = sampleDict.pop('city')\n",
        "sampleDict"
      ],
      "execution_count": 13,
      "outputs": [
        {
          "output_type": "execute_result",
          "data": {
            "text/plain": [
              "{'b': 4, 'c': 3, 'location': 1}"
            ]
          },
          "metadata": {
            "tags": []
          },
          "execution_count": 13
        }
      ]
    },
    {
      "cell_type": "markdown",
      "metadata": {
        "id": "1M5LTlibm7cr",
        "colab_type": "text"
      },
      "source": [
        "# Task 9\n",
        "Get the key corresponding to the minimum value from the following dictionary\n",
        "## INPUT/OUTPUT\n",
        "*   INPUT: No input\n",
        "*   OUTPUT: Key of minimal value\n",
        "\n",
        "## Code\n",
        "\n"
      ]
    },
    {
      "cell_type": "code",
      "metadata": {
        "id": "RA5dFwdOmh-E",
        "colab_type": "code",
        "colab": {
          "base_uri": "https://localhost:8080/",
          "height": 34
        },
        "outputId": "45fa7e8f-b805-4d4f-9001-b9430ee12437"
      },
      "source": [
        "sampleDict = {\n",
        "    'city' : 1,\n",
        "    'b' : 4,\n",
        "    'c' : 3,\n",
        "}\n",
        "list(sampleDict.keys())[list(sampleDict.values()).index(min(sampleDict.values()))]"
      ],
      "execution_count": 16,
      "outputs": [
        {
          "output_type": "execute_result",
          "data": {
            "text/plain": [
              "'city'"
            ]
          },
          "metadata": {
            "tags": []
          },
          "execution_count": 16
        }
      ]
    }
  ]
}