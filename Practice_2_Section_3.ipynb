{
  "nbformat": 4,
  "nbformat_minor": 0,
  "metadata": {
    "colab": {
      "name": "Practice_2_Section_3.ipynb",
      "provenance": [],
      "authorship_tag": "ABX9TyN+4VX6sxs3wj7negPHElid",
      "include_colab_link": true
    },
    "kernelspec": {
      "name": "python3",
      "display_name": "Python 3"
    }
  },
  "cells": [
    {
      "cell_type": "markdown",
      "metadata": {
        "id": "view-in-github",
        "colab_type": "text"
      },
      "source": [
        "<a href=\"https://colab.research.google.com/github/dj-kostya/NSU_PYTHON_2_Semestr_Practices/blob/master/Practice_2_Section_3.ipynb\" target=\"_parent\"><img src=\"https://colab.research.google.com/assets/colab-badge.svg\" alt=\"Open In Colab\"/></a>"
      ]
    },
    {
      "cell_type": "markdown",
      "metadata": {
        "id": "s_f4cjyOFupv",
        "colab_type": "text"
      },
      "source": [
        "# Task 1\n",
        "Add a list of elements to a given set\n",
        "## INPUT/OUTPUT\n",
        "*   INPUT: No input\n",
        "*   OUTPUT: New set\n",
        "\n",
        "## Code\n"
      ]
    },
    {
      "cell_type": "code",
      "metadata": {
        "id": "fUD4ZVcmFUro",
        "colab_type": "code",
        "colab": {
          "base_uri": "https://localhost:8080/",
          "height": 34
        },
        "outputId": "4d761a9a-990f-4043-e88d-9e2b7f848c1c"
      },
      "source": [
        "sampleSet = {'1', '2', '3'}\n",
        "sampleListToAdd = ['5','6','9']\n",
        "sampleSet.update(sampleListToAdd)\n",
        "sampleSet"
      ],
      "execution_count": 3,
      "outputs": [
        {
          "output_type": "execute_result",
          "data": {
            "text/plain": [
              "{'1', '2', '3', '5', '6', '9'}"
            ]
          },
          "metadata": {
            "tags": []
          },
          "execution_count": 3
        }
      ]
    },
    {
      "cell_type": "markdown",
      "metadata": {
        "id": "cRwsLJLCIGHD",
        "colab_type": "text"
      },
      "source": [
        "# Task 2\n",
        "Return a set of identical items from a given two Python set\n",
        "## INPUT/OUTPUT\n",
        "*   INPUT: No input\n",
        "*   OUTPUT: Intersection of set1 and set2\n",
        "\n",
        "## Code\n"
      ]
    },
    {
      "cell_type": "code",
      "metadata": {
        "id": "YoAoZ9DPHSYy",
        "colab_type": "code",
        "colab": {
          "base_uri": "https://localhost:8080/",
          "height": 34
        },
        "outputId": "544080ed-50e7-448d-919d-402a24b6ddc9"
      },
      "source": [
        "set1 = set(['1', '2', '3', '10', '5'])\n",
        "set2 = set(['5','6','9', '10'])\n",
        "set1.intersection(set2)"
      ],
      "execution_count": 4,
      "outputs": [
        {
          "output_type": "execute_result",
          "data": {
            "text/plain": [
              "{'10', '5'}"
            ]
          },
          "metadata": {
            "tags": []
          },
          "execution_count": 4
        }
      ]
    },
    {
      "cell_type": "markdown",
      "metadata": {
        "id": "239iMRTwIRqM",
        "colab_type": "text"
      },
      "source": [
        "# Task 3\n",
        "Returns a new set with all items from both sets by removing duplicates\n",
        "## INPUT/OUTPUT\n",
        "*   INPUT: No input\n",
        "*   OUTPUT: New set\n",
        "\n",
        "## Code\n"
      ]
    },
    {
      "cell_type": "code",
      "metadata": {
        "id": "xdQOdR7GIsLN",
        "colab_type": "code",
        "colab": {
          "base_uri": "https://localhost:8080/",
          "height": 34
        },
        "outputId": "81e3ea5b-6926-4a75-accf-c83fab3fa5a9"
      },
      "source": [
        "set1 = {'1', '2', '3', '10', '5'}\n",
        "set2 = {'5','6','9', '10'}\n",
        "set1.update(set2)\n",
        "set1"
      ],
      "execution_count": 5,
      "outputs": [
        {
          "output_type": "execute_result",
          "data": {
            "text/plain": [
              "{'1', '10', '2', '3', '5', '6', '9'}"
            ]
          },
          "metadata": {
            "tags": []
          },
          "execution_count": 5
        }
      ]
    },
    {
      "cell_type": "markdown",
      "metadata": {
        "id": "WyFtncMXJlal",
        "colab_type": "text"
      },
      "source": [
        "# Task 4\n",
        "Given a two Python sets, update first set with items that exist only in the first set and not in the second set\n",
        "## INPUT/OUTPUT\n",
        "*   INPUT: No input\n",
        "*   OUTPUT: New set\n",
        "\n",
        "## Code\n"
      ]
    },
    {
      "cell_type": "code",
      "metadata": {
        "id": "iz8I_4o9JABS",
        "colab_type": "code",
        "colab": {
          "base_uri": "https://localhost:8080/",
          "height": 34
        },
        "outputId": "20d355d1-d6d3-4e27-e722-4f73e75e5083"
      },
      "source": [
        "set1 = {'1', '2', '3', '10', '5'}\n",
        "set2 = {'5','6','9', '10'}\n",
        "set1-set2"
      ],
      "execution_count": 6,
      "outputs": [
        {
          "output_type": "execute_result",
          "data": {
            "text/plain": [
              "{'1', '2', '3'}"
            ]
          },
          "metadata": {
            "tags": []
          },
          "execution_count": 6
        }
      ]
    },
    {
      "cell_type": "markdown",
      "metadata": {
        "id": "ejLecMm-JoLZ",
        "colab_type": "text"
      },
      "source": [
        "# Task 5\n",
        "Remove 10, 20, 30 elements from a following set at onc\n",
        "## INPUT/OUTPUT\n",
        "*   INPUT: No input\n",
        "*   OUTPUT: New set\n",
        "\n",
        "## Code\n"
      ]
    },
    {
      "cell_type": "code",
      "metadata": {
        "id": "UDf8Cu7bJISa",
        "colab_type": "code",
        "colab": {
          "base_uri": "https://localhost:8080/",
          "height": 34
        },
        "outputId": "5b5b4cd8-4d45-4d4f-fe6a-09c16ed70c4f"
      },
      "source": [
        "set1 = {'1', '2', '3', '10', '5'}\n",
        "del_set ={'1', '3', '10'}\n",
        "set1 = set1 - del_set\n",
        "set1"
      ],
      "execution_count": 8,
      "outputs": [
        {
          "output_type": "execute_result",
          "data": {
            "text/plain": [
              "{'2', '5'}"
            ]
          },
          "metadata": {
            "tags": []
          },
          "execution_count": 8
        }
      ]
    },
    {
      "cell_type": "markdown",
      "metadata": {
        "id": "c8xLE5COJ3ys",
        "colab_type": "text"
      },
      "source": [
        "# Task 6\n",
        "Return a set of all elements in either A or B, but not both\n",
        "## INPUT/OUTPUT\n",
        "*   INPUT: No input\n",
        "*   OUTPUT: New set\n",
        "\n",
        "## Code\n"
      ]
    },
    {
      "cell_type": "code",
      "metadata": {
        "id": "Bne3MzWOJ_j2",
        "colab_type": "code",
        "colab": {
          "base_uri": "https://localhost:8080/",
          "height": 34
        },
        "outputId": "c928ca12-64cd-4685-8f7f-34f7a8d9f1ad"
      },
      "source": [
        "set1 = {'1', '2', '3', '10', '5'}\n",
        "set2 = {'5','6','9', '10'}\n",
        "(set1 - set2) | (set2 - set1)"
      ],
      "execution_count": 10,
      "outputs": [
        {
          "output_type": "execute_result",
          "data": {
            "text/plain": [
              "{'1', '2', '3', '6', '9'}"
            ]
          },
          "metadata": {
            "tags": []
          },
          "execution_count": 10
        }
      ]
    },
    {
      "cell_type": "markdown",
      "metadata": {
        "id": "tTmC-gzaKNXC",
        "colab_type": "text"
      },
      "source": [
        "# Task 7\n",
        "Determines whether or not the following two sets have any elements in common. If yes display the common elements\n",
        "## INPUT/OUTPUT\n",
        "*   INPUT: No input\n",
        "*   OUTPUT: New set\n",
        "\n",
        "## Code\n"
      ]
    },
    {
      "cell_type": "code",
      "metadata": {
        "id": "4NlolxiGKbsF",
        "colab_type": "code",
        "colab": {
          "base_uri": "https://localhost:8080/",
          "height": 52
        },
        "outputId": "a4c3d043-e786-493f-8ec0-d0a36674a16d"
      },
      "source": [
        "set1 = {'1', '2', '3', '10', '5'}\n",
        "set2 = {'5','6','9', '10'}\n",
        "set_common = set1.intersection(set2)\n",
        "if(set_common):\n",
        "  print(f\"Two sets have items in common:\\n{set_common}\")"
      ],
      "execution_count": 13,
      "outputs": [
        {
          "output_type": "stream",
          "text": [
            "Two sets have items in common:\n",
            "{'5', '10'}\n"
          ],
          "name": "stdout"
        }
      ]
    },
    {
      "cell_type": "markdown",
      "metadata": {
        "id": "KQn7LZpAK-J4",
        "colab_type": "text"
      },
      "source": [
        "# Task 8\n",
        "Update set1 by adding items from set2, except common items\n",
        "## INPUT/OUTPUT\n",
        "*   INPUT: No input\n",
        "*   OUTPUT: New set\n",
        "\n",
        "## Code\n"
      ]
    },
    {
      "cell_type": "code",
      "metadata": {
        "id": "9YtHy2XeLTF6",
        "colab_type": "code",
        "colab": {
          "base_uri": "https://localhost:8080/",
          "height": 34
        },
        "outputId": "59fd0995-aed2-4876-be82-eb4e26053e20"
      },
      "source": [
        "set1 = {'1', '2', '3', '10', '5'}\n",
        "set2 = {'5','6','9', '10'}\n",
        "set1 = (set1|set2) - set1.intersection(set2)\n",
        "set1"
      ],
      "execution_count": 16,
      "outputs": [
        {
          "output_type": "execute_result",
          "data": {
            "text/plain": [
              "{'1', '2', '3', '6', '9'}"
            ]
          },
          "metadata": {
            "tags": []
          },
          "execution_count": 16
        }
      ]
    },
    {
      "cell_type": "markdown",
      "metadata": {
        "id": "bcAGFnPYLqeb",
        "colab_type": "text"
      },
      "source": [
        "# Task 8\n",
        "Remove items from set1 that are not common to both set1 and set2\n",
        "## INPUT/OUTPUT\n",
        "*   INPUT: No input\n",
        "*   OUTPUT: New set\n",
        "\n",
        "## Code\n",
        "\n"
      ]
    },
    {
      "cell_type": "code",
      "metadata": {
        "id": "PEPM81f8LzhE",
        "colab_type": "code",
        "colab": {
          "base_uri": "https://localhost:8080/",
          "height": 34
        },
        "outputId": "2bf92eff-3201-4ec7-fe5b-8ce9b0019118"
      },
      "source": [
        "set1 = {'1', '2', '3', '10', '5'}\n",
        "set2 = {'5','6','9', '10'}\n",
        "set1 - (set1-set2)"
      ],
      "execution_count": 17,
      "outputs": [
        {
          "output_type": "execute_result",
          "data": {
            "text/plain": [
              "{'10', '5'}"
            ]
          },
          "metadata": {
            "tags": []
          },
          "execution_count": 17
        }
      ]
    }
  ]
}