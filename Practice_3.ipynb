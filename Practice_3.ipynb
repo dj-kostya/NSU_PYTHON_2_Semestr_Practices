{
  "nbformat": 4,
  "nbformat_minor": 0,
  "metadata": {
    "colab": {
      "name": "Practice_3.ipynb",
      "provenance": [],
      "authorship_tag": "ABX9TyNiUqsu7x83i0WVtmj+gJAd",
      "include_colab_link": true
    },
    "kernelspec": {
      "name": "python3",
      "display_name": "Python 3"
    }
  },
  "cells": [
    {
      "cell_type": "markdown",
      "metadata": {
        "id": "view-in-github",
        "colab_type": "text"
      },
      "source": [
        "<a href=\"https://colab.research.google.com/github/dj-kostya/NSU_PYTHON_2_Semestr_Practices/blob/master/Practice_3.ipynb\" target=\"_parent\"><img src=\"https://colab.research.google.com/assets/colab-badge.svg\" alt=\"Open In Colab\"/></a>"
      ]
    },
    {
      "cell_type": "code",
      "metadata": {
        "id": "cxj2txfkisIG",
        "colab_type": "code",
        "outputId": "e2b4609a-e907-4755-b4e1-0d9ebd90bcff",
        "colab": {
          "base_uri": "https://localhost:8080/",
          "height": 34
        }
      },
      "source": [
        "# Prime Factorization of an Integer\n",
        "# Create a function that returns a list containing the prime factors of whatever integer is passed to it.\n",
        "\n",
        "def prime_factors(number):\n",
        "  factors = []\n",
        "  for i in range(2, int(number ** 0.5)+ 2, 1):\n",
        "    while(number % i == 0):\n",
        "      number //= i\n",
        "      factors.append(i)\n",
        "  if(number != 1):\n",
        "    factors.append(number)\n",
        "  return factors\n",
        "prime_factors(100)  "
      ],
      "execution_count": 0,
      "outputs": [
        {
          "output_type": "execute_result",
          "data": {
            "text/plain": [
              "[2, 2, 5, 5]"
            ]
          },
          "metadata": {
            "tags": []
          },
          "execution_count": 5
        }
      ]
    },
    {
      "cell_type": "code",
      "metadata": {
        "id": "eTbVue1QktTV",
        "colab_type": "code",
        "outputId": "7b89c3cf-1f42-46ae-9653-e8f67e366614",
        "colab": {
          "base_uri": "https://localhost:8080/",
          "height": 34
        }
      },
      "source": [
        "# Parentheses Clusters\n",
        "# Write a function that groups a string into parentheses cluster. Each cluster should be balanced.\n",
        "\n",
        "def split(string):\n",
        "    answer = []\n",
        "    cnt_opened = 0\n",
        "    new_el = []\n",
        "    for char in string:\n",
        "        if char == '(':\n",
        "            cnt_opened+=1\n",
        "        elif char == ')':\n",
        "            cnt_opened -= 1\n",
        "        new_el.append(char)\n",
        "        if cnt_opened == 0 and new_el:\n",
        "            answer.append(\"\".join(new_el))\n",
        "            new_el = []\n",
        "    return answer\n",
        "split('()()()')"
      ],
      "execution_count": 0,
      "outputs": [
        {
          "output_type": "execute_result",
          "data": {
            "text/plain": [
              "['()', '()', '()']"
            ]
          },
          "metadata": {
            "tags": []
          },
          "execution_count": 8
        }
      ]
    },
    {
      "cell_type": "code",
      "metadata": {
        "id": "vTKaDnJDnsK1",
        "colab_type": "code",
        "outputId": "5310ccc9-69b8-48b0-e3a2-48928f901d6b",
        "colab": {
          "base_uri": "https://localhost:8080/",
          "height": 34
        }
      },
      "source": [
        "# Rearrange the Number\n",
        "# Given a number, return the difference between the maximum and minimum numbers that can be formed when the digits are rearranged.\n",
        "\n",
        "def rearranged_difference(number):\n",
        "    min_number = sorted(str(number))\n",
        "    max_number = min_number[::-1]\n",
        "    min_number = int(''.join(min_number))\n",
        "    max_number = int(''.join(max_number))\n",
        "    return max_number - min_number\n",
        "\n",
        "rearranged_difference(972882)"
      ],
      "execution_count": 0,
      "outputs": [
        {
          "output_type": "execute_result",
          "data": {
            "text/plain": [
              "760833"
            ]
          },
          "metadata": {
            "tags": []
          },
          "execution_count": 9
        }
      ]
    },
    {
      "cell_type": "code",
      "metadata": {
        "id": "D6FinX7GpleW",
        "colab_type": "code",
        "outputId": "f65ded52-5acd-4c59-c791-11af0422393c",
        "colab": {
          "base_uri": "https://localhost:8080/",
          "height": 34
        }
      },
      "source": [
        "# Concert Seats\n",
        "# Create a function that determines whether each seat can \"see\" the front-stage. A number can \"see\" the front-stage if it is strictly greater than the number before it.\n",
        "\n",
        "\n",
        "def can_see(stage):\n",
        "    if len(stage) == 0:\n",
        "        return False\n",
        "    if len(stage) == 1:\n",
        "        return True\n",
        "    for idx, _ in enumerate(stage[0]):\n",
        "        for i in range(len(stage)-1):\n",
        "            if stage[i][idx]>= stage[i + 1][idx]:\n",
        "                return False\n",
        "    return True\n",
        "can_see([\n",
        "         [1,2,3,2,1,1],\n",
        "         [2,4,4,3,2,2],\n",
        "         [5,5,5,10,4,4]\n",
        "         [6,6,7,6,5,5]])\n"
      ],
      "execution_count": 0,
      "outputs": [
        {
          "output_type": "execute_result",
          "data": {
            "text/plain": [
              "False"
            ]
          },
          "metadata": {
            "tags": []
          },
          "execution_count": 6
        }
      ]
    },
    {
      "cell_type": "code",
      "metadata": {
        "id": "U5eTFLX_r7hB",
        "colab_type": "code",
        "outputId": "82856d93-9ff5-410d-8e35-52f8d51ff33a",
        "colab": {
          "base_uri": "https://localhost:8080/",
          "height": 34
        }
      },
      "source": [
        "# Pascal's Triangle\n",
        "# The goal of this challenge is to return Pascal's triangle up to number 29. Pascal's triangle is the sum of the two upper corners.\n",
        "\n",
        "\n",
        "from math import factorial as fact\n",
        "def pascals_triangle(n):\n",
        "  answer = []\n",
        "  for k in range(0, n+1):\n",
        "      answer.append(str(int(fact(n)/(fact(k)*fact(n-k)))))\n",
        "  return ' '.join(answer)\n",
        "pascals_triangle(4)"
      ],
      "execution_count": 0,
      "outputs": [
        {
          "output_type": "execute_result",
          "data": {
            "text/plain": [
              "'1 4 6 4 1'"
            ]
          },
          "metadata": {
            "tags": []
          },
          "execution_count": 22
        }
      ]
    },
    {
      "cell_type": "code",
      "metadata": {
        "id": "8RGVhNbpoUj7",
        "colab_type": "code",
        "outputId": "7ab5956f-fe05-4bb1-bac4-4c2783f005c0",
        "colab": {
          "base_uri": "https://localhost:8080/",
          "height": 34
        }
      },
      "source": [
        "# Complete the Word\n",
        "# An input string can be completed if additional letters can be added and no letters need to be taken away to match the word. Furthermore, the order of the letters in the input string must be the same as the order of letters in the final word.\n",
        "# Create a function that, given an input string, determines if the word can be completed.\n",
        "\n",
        "def can_complete(string, result):\n",
        "  used = 0\n",
        "  for idx, char in enumerate(string):\n",
        "    if char in result[idx:]:\n",
        "      used += 1\n",
        "  if used < len(string):\n",
        "    return False\n",
        "  return True\n",
        "\n",
        "can_complete('tulb','beautiful')"
      ],
      "execution_count": 0,
      "outputs": [
        {
          "output_type": "execute_result",
          "data": {
            "text/plain": [
              "False"
            ]
          },
          "metadata": {
            "tags": []
          },
          "execution_count": 3
        }
      ]
    },
    {
      "cell_type": "code",
      "metadata": {
        "id": "fe5SRdsfxUYb",
        "colab_type": "code",
        "outputId": "8459caba-4818-40cf-a7cd-01ff406b6874",
        "colab": {
          "base_uri": "https://localhost:8080/",
          "height": 52
        }
      },
      "source": [
        "# Advanced List Sort\n",
        "# Create a function that takes a list of numbers or strings and returns a list with the items from the original list stored into sublists. Items of the same value should be in the same sublist.\n",
        "\n",
        "def advanced_sort(array):\n",
        "  items = list(dict.fromkeys(array))\n",
        "  answer = []\n",
        "  for item in items:\n",
        "    buf =[]\n",
        "    for i in range(array.count(item)):\n",
        "      buf.append(item)\n",
        "    answer.append(buf)\n",
        "  return(answer)\n",
        "advanced_sort(['b','a','b','a', 'c'])"
      ],
      "execution_count": 0,
      "outputs": [
        {
          "output_type": "stream",
          "text": [
            "['b', 'a', 'c']\n"
          ],
          "name": "stdout"
        },
        {
          "output_type": "execute_result",
          "data": {
            "text/plain": [
              "[['b', 'b'], ['a', 'a'], ['c']]"
            ]
          },
          "metadata": {
            "tags": []
          },
          "execution_count": 27
        }
      ]
    },
    {
      "cell_type": "code",
      "metadata": {
        "id": "g7J8uQMlzMY5",
        "colab_type": "code",
        "outputId": "d4adb34e-fb43-4c32-ea26-8bd88f640fa8",
        "colab": {
          "base_uri": "https://localhost:8080/",
          "height": 34
        }
      },
      "source": [
        "# Simplified Fractions\n",
        "# Create a function that returns the simplified version of a fraction.\n",
        "\n",
        "from math import gcd\n",
        "\n",
        "def simplify(string):\n",
        "  a,b = string.split('/')\n",
        "  a,b = int(a),int(b)\n",
        "  gsd_ab = gsd(a,b)\n",
        "  a /= gsd_ab\n",
        "  b /= gsd_ab\n",
        "  a,b = int(a),int(b)\n",
        "  if b == 1:\n",
        "    return str(a)\n",
        "  return f\"{str(a)}/{str(b)}\"\n",
        "\n",
        "simplify(\"4/6\")"
      ],
      "execution_count": 0,
      "outputs": [
        {
          "output_type": "execute_result",
          "data": {
            "text/plain": [
              "'2/3'"
            ]
          },
          "metadata": {
            "tags": []
          },
          "execution_count": 36
        }
      ]
    },
    {
      "cell_type": "code",
      "metadata": {
        "id": "BI7GEajP0icy",
        "colab_type": "code",
        "colab": {
          "base_uri": "https://localhost:8080/",
          "height": 34
        },
        "outputId": "ade963d7-944e-41aa-bc89-95e65ae9d056"
      },
      "source": [
        "# Validate Phone Numbers\n",
        "# Write a function that returns True if the phone number is in a valid format. Valid formats are as follows:\n",
        "\n",
        "import re\n",
        "\n",
        "def validate(string):\n",
        "  patern = r\"([ .\\-\\\\]?)[(]?\\d{3}[)]?([ .\\-\\\\]?)\\d{3}\\2\\d{4}\"\n",
        "  if string[0] == '+':\n",
        "    if string[1] == '1':\n",
        "      if re.search(patern, string[2:]):\n",
        "        return True\n",
        "    elif re.search(patern, string[1:]):\n",
        "        return True\n",
        "  elif string[0] == '1' and re.search(patern, string[1:]):\n",
        "      return True\n",
        "  elif re.search(patern, string):\n",
        "      return True\n",
        "  return False\n",
        "\n",
        "validate('1892 576 8901')"
      ],
      "execution_count": 9,
      "outputs": [
        {
          "output_type": "execute_result",
          "data": {
            "text/plain": [
              "True"
            ]
          },
          "metadata": {
            "tags": []
          },
          "execution_count": 9
        }
      ]
    },
    {
      "cell_type": "code",
      "metadata": {
        "id": "wdORs14OuLo7",
        "colab_type": "code",
        "colab": {
          "base_uri": "https://localhost:8080/",
          "height": 34
        },
        "outputId": "52be3d5a-d5fc-4330-fd4c-aefffb90edeb"
      },
      "source": [
        "# Evaluating Simple Algebra\n",
        "# Given a string containing an algebraic equation, calculate and return the value of x. You'll only be given equations for simple addition and subtraction.\n",
        "def eval_algebra(string):\n",
        "  elements = string.split()\n",
        "  if elements[1] == '+':\n",
        "    if elements[0] == 'x':\n",
        "      return int(elements[4])-int(elements[2])\n",
        "    elif elements[2] == 'x':\n",
        "      return int(elements[4])-int(elements[0])\n",
        "    elif elements[4] == 'x':\n",
        "      return int(elements[2])+int(elements[0])\n",
        "  else:\n",
        "    if elements[0] == 'x':\n",
        "      return int(elements[4])+int(elements[2])\n",
        "    elif elements[2] == 'x':\n",
        "      return int(elements[0])-int(elements[4])\n",
        "    elif elements[4] == 'x':\n",
        "      return int(elements[0])-int(elements[2])\n",
        "\n",
        "eval_algebra('23 - x = 2')"
      ],
      "execution_count": 13,
      "outputs": [
        {
          "output_type": "execute_result",
          "data": {
            "text/plain": [
              "21"
            ]
          },
          "metadata": {
            "tags": []
          },
          "execution_count": 13
        }
      ]
    }
  ]
}