{
 "cells": [
  {
   "cell_type": "markdown",
   "metadata": {},
   "source": [
    "# Practice 7. NumPy"
   ]
  },
  {
   "cell_type": "code",
   "execution_count": 1,
   "metadata": {},
   "outputs": [],
   "source": [
    "import numpy as np\n",
    "from pprint import pprint"
   ]
  },
  {
   "cell_type": "markdown",
   "metadata": {},
   "source": [
    "## Low level"
   ]
  },
  {
   "cell_type": "markdown",
   "metadata": {},
   "source": [
    "### Task 1"
   ]
  },
  {
   "cell_type": "code",
   "execution_count": 2,
   "metadata": {},
   "outputs": [
    {
     "name": "stdout",
     "output_type": "stream",
     "text": [
      "array([[0, 1, 0, 1, 0, 1, 0, 1],\n",
      "       [1, 0, 1, 0, 1, 0, 1, 0],\n",
      "       [0, 1, 0, 1, 0, 1, 0, 1],\n",
      "       [1, 0, 1, 0, 1, 0, 1, 0],\n",
      "       [0, 1, 0, 1, 0, 1, 0, 1],\n",
      "       [1, 0, 1, 0, 1, 0, 1, 0],\n",
      "       [0, 1, 0, 1, 0, 1, 0, 1],\n",
      "       [1, 0, 1, 0, 1, 0, 1, 0]], dtype=int32)\n"
     ]
    }
   ],
   "source": [
    "res = np.fromfunction(lambda x,y: (x+y)%2 ,(8,8), dtype=int)\n",
    "pprint(res)"
   ]
  },
  {
   "cell_type": "markdown",
   "metadata": {},
   "source": [
    "### Task 2"
   ]
  },
  {
   "cell_type": "code",
   "execution_count": 3,
   "metadata": {},
   "outputs": [
    {
     "name": "stdout",
     "output_type": "stream",
     "text": [
      "[[(0.  , 0.  ) (0.25, 0.  ) (0.5 , 0.  ) (0.75, 0.  ) (1.  , 0.  )]\n",
      " [(0.  , 0.25) (0.25, 0.25) (0.5 , 0.25) (0.75, 0.25) (1.  , 0.25)]\n",
      " [(0.  , 0.5 ) (0.25, 0.5 ) (0.5 , 0.5 ) (0.75, 0.5 ) (1.  , 0.5 )]\n",
      " [(0.  , 0.75) (0.25, 0.75) (0.5 , 0.75) (0.75, 0.75) (1.  , 0.75)]\n",
      " [(0.  , 1.  ) (0.25, 1.  ) (0.5 , 1.  ) (0.75, 1.  ) (1.  , 1.  )]]\n"
     ]
    }
   ],
   "source": [
    "res = np.fromfunction(lambda x,y: np.array((x/4, y/4)), (5,5))\n",
    "res = res.T.reshape((25,2))\n",
    "res = np.array(list(map(tuple, res)), dtype=np.dtype('float,float'))\n",
    "res = res.reshape((5,5))\n",
    "print(res)"
   ]
  },
  {
   "cell_type": "markdown",
   "metadata": {},
   "source": [
    "### Task3"
   ]
  },
  {
   "cell_type": "code",
   "execution_count": 4,
   "metadata": {},
   "outputs": [
    {
     "name": "stdout",
     "output_type": "stream",
     "text": [
      "[[0.59877044 0.75179305]\n",
      " [1.16458835 0.47821338]\n",
      " [0.81105866 0.62661873]\n",
      " [0.78012701 0.15681913]\n",
      " [1.14905892 0.60113841]\n",
      " [0.7340492  0.67370521]\n",
      " [0.35001298 0.77761012]\n",
      " [1.2079766  0.56060393]\n",
      " [0.73634801 0.72588253]\n",
      " [1.1214026  0.60533971]]\n"
     ]
    }
   ],
   "source": [
    "res = np.random.rand(10,2)\n",
    "x,y = res[:,0], res[:,1]\n",
    "res[:, 0] = np.sqrt(x**2+y**2)\n",
    "res[:, 1] = np.arctan2(y,x)\n",
    "print(res)"
   ]
  },
  {
   "cell_type": "markdown",
   "metadata": {},
   "source": [
    "### Task 4"
   ]
  },
  {
   "cell_type": "code",
   "execution_count": 5,
   "metadata": {},
   "outputs": [
    {
     "name": "stdout",
     "output_type": "stream",
     "text": [
      "2\n"
     ]
    }
   ],
   "source": [
    "X = list(range(1,7))\n",
    "A = 2.4685\n",
    "array = np.array(X)\n",
    "print(array[np.abs(array-A).argmin()])"
   ]
  },
  {
   "cell_type": "markdown",
   "metadata": {},
   "source": [
    "### Task 5"
   ]
  },
  {
   "cell_type": "code",
   "execution_count": 6,
   "metadata": {},
   "outputs": [
    {
     "data": {
      "text/plain": [
       "array([[-3., -2., -1.,  0.,  1.,  2.,  3.],\n",
       "       [-3., -2., -1.,  0.,  1.,  2.,  3.],\n",
       "       [-3., -2., -1.,  0.,  1.,  2.,  3.]])"
      ]
     },
     "execution_count": 6,
     "metadata": {},
     "output_type": "execute_result"
    }
   ],
   "source": [
    "a = np.arange(21).reshape((3, 7))\n",
    "mean = np.mean(a, axis=1).reshape((3,1))\n",
    "ones = np.ones(a.shape)\n",
    "a - mean * ones"
   ]
  },
  {
   "cell_type": "markdown",
   "metadata": {},
   "source": [
    "### Task 6"
   ]
  },
  {
   "cell_type": "code",
   "execution_count": 7,
   "metadata": {},
   "outputs": [
    {
     "data": {
      "text/plain": [
       "array([[0.        , 0.        , 0.        , 0.18902111, 0.        ],\n",
       "       [0.31763871, 0.01086294, 0.66929786, 0.51133958, 0.42894558],\n",
       "       [0.        , 0.        , 0.        , 0.1923804 , 0.        ],\n",
       "       [0.        , 0.        , 0.        , 0.        , 0.        ],\n",
       "       [0.63384939, 0.        , 0.60433353, 0.        , 0.23131721]])"
      ]
     },
     "execution_count": 7,
     "metadata": {},
     "output_type": "execute_result"
    }
   ],
   "source": [
    "elements = np.random.rand(10)\n",
    "zeros= np.zeros((5,5)).reshape((25))\n",
    "zeros[:len(elements)] = elements\n",
    "np.random.shuffle(zeros)\n",
    "res = zeros.reshape((5,5))\n",
    "res"
   ]
  },
  {
   "cell_type": "markdown",
   "metadata": {},
   "source": [
    "### Task 7"
   ]
  },
  {
   "cell_type": "code",
   "execution_count": 8,
   "metadata": {},
   "outputs": [
    {
     "data": {
      "text/plain": [
       "array([0., 7., 0., 6., 5., 0., 0., 0., 0., 3.])"
      ]
     },
     "execution_count": 8,
     "metadata": {},
     "output_type": "execute_result"
    }
   ],
   "source": [
    "X = [1,2,3,4,5,6]\n",
    "I = [1,3,9,3,4,1]\n",
    "x = np.zeros((max(I)+1))\n",
    "for idx_el,i in enumerate(I):\n",
    "    x[i]+=X[idx_el]\n",
    "x"
   ]
  },
  {
   "cell_type": "markdown",
   "metadata": {},
   "source": [
    "## Medium Level"
   ]
  },
  {
   "cell_type": "markdown",
   "metadata": {},
   "source": [
    "### Task 1"
   ]
  },
  {
   "cell_type": "code",
   "execution_count": 9,
   "metadata": {},
   "outputs": [
    {
     "name": "stdout",
     "output_type": "stream",
     "text": [
      "Before: \n",
      "array([[1.29795918e-01, 2.17521351e-01, 2.55977764e-01, 6.89210698e-01,\n",
      "        1.22415118e-01],\n",
      "       [1.52853820e-01, 7.79640534e-01, 5.48117252e-01, 4.59994956e-01,\n",
      "        6.13511326e-01],\n",
      "       [2.67663995e-01, 7.49176257e-01, 6.67542524e-01, 9.68108023e-02,\n",
      "        8.19969337e-01],\n",
      "       [5.01329594e-01, 7.43450383e-01, 6.54085190e-01, 2.23513923e-01,\n",
      "        2.80681251e-01],\n",
      "       [7.96344604e-04, 9.62597397e-01, 5.77629028e-01, 5.10237048e-01,\n",
      "        7.19391431e-01]])\n",
      "###########################################################################\n",
      "AFTER: \n",
      "array([[1.29795918e-01, 2.17521351e-01, 2.55977764e-01, 6.89210698e-01,\n",
      "        1.22415118e-01],\n",
      "       [1.52853820e-01, 7.79640534e-01, 5.48117252e-01, 4.59994956e-01,\n",
      "        6.13511326e-01],\n",
      "       [5.01329594e-01, 7.43450383e-01, 6.54085190e-01, 2.23513923e-01,\n",
      "        2.80681251e-01],\n",
      "       [2.67663995e-01, 7.49176257e-01, 6.67542524e-01, 9.68108023e-02,\n",
      "        8.19969337e-01],\n",
      "       [7.96344604e-04, 9.62597397e-01, 5.77629028e-01, 5.10237048e-01,\n",
      "        7.19391431e-01]])\n",
      "###########################################################################\n"
     ]
    }
   ],
   "source": [
    "a = np.random.rand(5,5)\n",
    "print('Before: ')\n",
    "pprint(a)\n",
    "print('#'*75)\n",
    "row_idx = 3,2\n",
    "a[row_idx[0]], a[row_idx[1]] = a[row_idx[1]], a[row_idx[0]].copy()\n",
    "print('AFTER: ')\n",
    "pprint(a)\n",
    "print('#'*75)"
   ]
  },
  {
   "cell_type": "markdown",
   "metadata": {},
   "source": [
    "### Task 2"
   ]
  },
  {
   "cell_type": "code",
   "execution_count": 10,
   "metadata": {},
   "outputs": [
    {
     "name": "stdout",
     "output_type": "stream",
     "text": [
      "[[0.47275947 0.         0.40673603 0.         0.53331257]\n",
      " [0.52619755 0.         0.62246008 0.         0.        ]\n",
      " [0.         0.         0.         0.         0.        ]\n",
      " [0.         0.         0.31398921 0.         0.        ]\n",
      " [0.         0.09020428 0.         0.         0.        ]]\n",
      "zero columns: [3]\n"
     ]
    }
   ],
   "source": [
    "shape = (5,5)\n",
    "\n",
    "# generate array\n",
    "a = np.zeros((shape[0]*shape[1],))\n",
    "data = np.random.rand(10)\n",
    "a[:10] = data\n",
    "np.random.shuffle(a)\n",
    "a = a.reshape(shape)\n",
    "a[:,3] = np.zeros(shape[1])\n",
    "print(a)\n",
    "\n",
    "\n",
    "# processing \n",
    "res = np.argwhere(a == 0)[:,1]\n",
    "cnt = np.bincount(res)\n",
    "result_index = np.where(cnt == shape[1])[0]\n",
    "print(f'zero columns: {result_index}')"
   ]
  },
  {
   "cell_type": "markdown",
   "metadata": {},
   "source": [
    "### Task 3"
   ]
  },
  {
   "cell_type": "code",
   "execution_count": 11,
   "metadata": {},
   "outputs": [
    {
     "data": {
      "text/plain": [
       "array([1., 0., 0., 0., 2., 0., 0., 0., 3., 0., 0., 0., 4., 0., 0., 0., 5.])"
      ]
     },
     "execution_count": 11,
     "metadata": {},
     "output_type": "execute_result"
    }
   ],
   "source": [
    "a = [1, 2, 3, 4, 5]\n",
    "delta = 3\n",
    "def f(i):\n",
    "    return i + delta * (i)\n",
    "new_len = len(a)*(delta+1) - delta\n",
    "idx = np.fromfunction(f, (5,), dtype=int)\n",
    "res = np.zeros((new_len,))\n",
    "res[idx] = a\n",
    "res"
   ]
  },
  {
   "cell_type": "markdown",
   "metadata": {},
   "source": [
    "### Task 4"
   ]
  },
  {
   "cell_type": "code",
   "execution_count": 12,
   "metadata": {},
   "outputs": [
    {
     "data": {
      "text/plain": [
       "array([[1, 4, 6],\n",
       "       [1, 4, 7],\n",
       "       [1, 5, 6],\n",
       "       [1, 5, 7],\n",
       "       [2, 4, 6],\n",
       "       [2, 4, 7],\n",
       "       [2, 5, 6],\n",
       "       [2, 5, 7],\n",
       "       [3, 4, 6],\n",
       "       [3, 4, 7],\n",
       "       [3, 5, 6],\n",
       "       [3, 5, 7]])"
      ]
     },
     "execution_count": 12,
     "metadata": {},
     "output_type": "execute_result"
    }
   ],
   "source": [
    "X = ([1, 2, 3], [4, 5], [6, 7])\n",
    "\n",
    "arrays = [np.asarray(array) for array in X]\n",
    "lens_of_arrays = np.indices(map(len, arrays))\n",
    "lens_of_arrays = lens_of_arrays.reshape(len(arrays), -1).T\n",
    "res = np.zeros_like(lens_of_arrays)\n",
    "\n",
    "for idx, arr in enumerate(arrays):\n",
    "    res[:, idx] = arr[lens_of_arrays[:, idx]]\n",
    "    \n",
    "res"
   ]
  },
  {
   "cell_type": "markdown",
   "metadata": {},
   "source": [
    "### Task 5"
   ]
  },
  {
   "cell_type": "code",
   "execution_count": 13,
   "metadata": {},
   "outputs": [
    {
     "name": "stdout",
     "output_type": "stream",
     "text": [
      "[ 1.  2.  3.  4.  5.  6.  7.  8.  9. 10. 11. 12. 13. 14. 15. 16. 17. 18.]\n"
     ]
    }
   ],
   "source": [
    "def moving_average(array, n):\n",
    "    len_of_new_arr = array.shape[0] - (n - 1)\n",
    "    result = np.zeros(len_of_new_arr)\n",
    "    for idx in range(len_of_new_arr):\n",
    "        result[idx] = np.average(array[idx:idx+n])\n",
    "    return result\n",
    "\n",
    "Z = np.arange(20)\n",
    "print(moving_average(Z, n=3))"
   ]
  },
  {
   "cell_type": "markdown",
   "metadata": {},
   "source": [
    "## Advanced Level"
   ]
  },
  {
   "cell_type": "markdown",
   "metadata": {},
   "source": [
    "### Task 1"
   ]
  },
  {
   "cell_type": "code",
   "execution_count": 14,
   "metadata": {},
   "outputs": [
    {
     "name": "stdout",
     "output_type": "stream",
     "text": [
      "[[[[0.95995444 0.9628879 ]\n",
      "   [0.35499199 0.72764724]]\n",
      "\n",
      "  [[0.00825946 0.59324128]\n",
      "   [0.15506735 0.69666902]]]\n",
      "\n",
      "\n",
      " [[[0.56219671 0.86243063]\n",
      "   [0.73296999 0.40328864]]\n",
      "\n",
      "  [[0.6816768  0.92878645]\n",
      "   [0.18329175 0.39809893]]]]\n"
     ]
    },
    {
     "data": {
      "text/plain": [
       "array([[3.00548157, 1.45323711],\n",
       "       [2.56088597, 2.19185393]])"
      ]
     },
     "execution_count": 14,
     "metadata": {},
     "output_type": "execute_result"
    }
   ],
   "source": [
    "a = np.random.rand(2,2,2,2)\n",
    "res = a.sum( axis = (-2,-1))\n",
    "print(a)\n",
    "res"
   ]
  },
  {
   "cell_type": "markdown",
   "metadata": {},
   "source": [
    "### Task 2"
   ]
  },
  {
   "cell_type": "code",
   "execution_count": 15,
   "metadata": {},
   "outputs": [
    {
     "data": {
      "text/plain": [
       "4"
      ]
     },
     "execution_count": 15,
     "metadata": {},
     "output_type": "execute_result"
    }
   ],
   "source": [
    "shape = (16,16)\n",
    "a = np.random.randint(0,2,(*shape, 3), dtype=np.ubyte)\n",
    "res = a[...,0]*256*256 + a[...,1]*256 + a[...,2]\n",
    "len(np.unique(res))"
   ]
  },
  {
   "cell_type": "markdown",
   "metadata": {},
   "source": [
    "### Task 3"
   ]
  },
  {
   "cell_type": "code",
   "execution_count": 16,
   "metadata": {},
   "outputs": [
    {
     "data": {
      "text/plain": [
       "array([[0.        , 0.94007211, 0.79101154, ..., 0.21462528, 0.58186959,\n",
       "        0.94220669],\n",
       "       [0.94007211, 0.        , 0.31602143, ..., 0.93100125, 1.1363969 ,\n",
       "        0.03625448],\n",
       "       [0.79101154, 0.31602143, 0.        , ..., 0.8534885 , 0.8522903 ,\n",
       "        0.34642126],\n",
       "       ...,\n",
       "       [0.21462528, 0.93100125, 0.8534885 , ..., 0.        , 0.79580737,\n",
       "        0.92483818],\n",
       "       [0.58186959, 1.1363969 , 0.8522903 , ..., 0.79580737, 0.        ,\n",
       "        1.15654436],\n",
       "       [0.94220669, 0.03625448, 0.34642126, ..., 0.92483818, 1.15654436,\n",
       "        0.        ]])"
      ]
     },
     "execution_count": 16,
     "metadata": {},
     "output_type": "execute_result"
    }
   ],
   "source": [
    "from scipy.spatial import distance\n",
    "a = np.random.rand(100,2)\n",
    "res = distance.cdist(a,a)\n",
    "res"
   ]
  },
  {
   "cell_type": "markdown",
   "metadata": {},
   "source": [
    "### Task 4"
   ]
  },
  {
   "cell_type": "code",
   "execution_count": 17,
   "metadata": {},
   "outputs": [
    {
     "name": "stdout",
     "output_type": "stream",
     "text": [
      "p = [[4.45578308 1.87963907]\n",
      " [6.36114409 6.36929243]\n",
      " [8.50281186 4.53919994]\n",
      " [1.45109207 4.57356089]\n",
      " [5.67737546 6.19508306]\n",
      " [4.44072744 7.3270896 ]\n",
      " [9.12417222 3.93522716]]\n",
      "P0 = [[9.42823635 0.22655457]\n",
      " [8.76865754 4.82615913]\n",
      " [7.48265587 9.78409238]\n",
      " [2.3572959  1.32767922]\n",
      " [6.82008974 9.79798299]\n",
      " [9.38532491 0.44616437]\n",
      " [0.89742507 5.52797877]]\n",
      "P1 = [[5.63612445 3.27098683]\n",
      " [6.91933577 3.14670578]\n",
      " [9.76201944 2.90139253]\n",
      " [4.73511344 1.45772421]\n",
      " [3.89120803 3.74937991]\n",
      " [0.45290938 5.97136528]\n",
      " [9.63150448 6.45713252]]\n",
      "Distance =  [1.82390137 2.76090965 0.68046558 3.29052531 0.54172901 3.25078004\n",
      " 2.45408637]\n"
     ]
    }
   ],
   "source": [
    "def distance(p, P0, P1):\n",
    "    delta = P1-P0\n",
    "    lenght = (delta ** 2).sum(axis = 1)\n",
    "    dist = -((P0[:,0]-p[...,0])*delta[:,0] + (P0[:,1]-p[...,1])*delta[:,1]) / lenght\n",
    "    dist = dist.reshape(len(dist),1)\n",
    "    return np.sqrt(((P0 + dist*delta -p)**2).sum(axis=1)) \n",
    "\n",
    "\n",
    "p = np.random.uniform(0,10,(7,2))\n",
    "P0 = np.random.uniform(0,10,(7,2))\n",
    "P1 = np.random.uniform(0,10,(7,2))\n",
    "print(f\"p = {p}\")\n",
    "print(f\"P0 = {P0}\")\n",
    "print(f\"P1 = {P1}\")\n",
    "print(\"Distance = \",distance(p, P0, P1))"
   ]
  },
  {
   "cell_type": "markdown",
   "metadata": {},
   "source": [
    "### Task 5"
   ]
  },
  {
   "cell_type": "code",
   "execution_count": 18,
   "metadata": {},
   "outputs": [
    {
     "name": "stdout",
     "output_type": "stream",
     "text": [
      "[[0 0 0 0 0 0 0 0]\n",
      " [0 0 0 0 0 0 0 1]\n",
      " [0 0 0 0 0 0 1 0]\n",
      " [0 0 0 0 0 0 1 1]\n",
      " [0 0 0 0 1 1 1 1]\n",
      " [0 0 0 1 0 0 0 0]\n",
      " [0 0 1 0 0 0 0 0]\n",
      " [0 1 0 0 0 0 0 0]\n",
      " [1 0 0 0 0 0 0 0]]\n"
     ]
    }
   ],
   "source": [
    "def get_binary(x):\n",
    "    return list(np.binary_repr(x, width=8))\n",
    "I = np.array([0, 1, 2, 3, 15, 16, 32, 64, 128])\n",
    "res_list = np.array(list(map(get_binary,I)),dtype=int)\n",
    "print(res_list)"
   ]
  }
 ],
 "metadata": {
  "kernelspec": {
   "display_name": "Python 3",
   "language": "python",
   "name": "python3"
  },
  "language_info": {
   "codemirror_mode": {
    "name": "ipython",
    "version": 3
   },
   "file_extension": ".py",
   "mimetype": "text/x-python",
   "name": "python",
   "nbconvert_exporter": "python",
   "pygments_lexer": "ipython3",
   "version": "3.7.7"
  }
 },
 "nbformat": 4,
 "nbformat_minor": 4
}
