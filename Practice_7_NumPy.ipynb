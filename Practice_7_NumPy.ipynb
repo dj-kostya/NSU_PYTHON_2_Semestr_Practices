{
 "cells": [
  {
   "cell_type": "markdown",
   "metadata": {},
   "source": [
    "# Practice 7. NumPy"
   ]
  },
  {
   "cell_type": "code",
   "execution_count": 2,
   "metadata": {},
   "outputs": [],
   "source": [
    "import numpy as np\n",
    "from pprint import pprint"
   ]
  },
  {
   "cell_type": "markdown",
   "metadata": {},
   "source": [
    "## Low level"
   ]
  },
  {
   "cell_type": "markdown",
   "metadata": {},
   "source": [
    "### Task 1"
   ]
  },
  {
   "cell_type": "code",
   "execution_count": 3,
   "metadata": {},
   "outputs": [
    {
     "name": "stdout",
     "output_type": "stream",
     "text": [
      "array([[0, 1, 0, 1, 0, 1, 0, 1],\n",
      "       [1, 0, 1, 0, 1, 0, 1, 0],\n",
      "       [0, 1, 0, 1, 0, 1, 0, 1],\n",
      "       [1, 0, 1, 0, 1, 0, 1, 0],\n",
      "       [0, 1, 0, 1, 0, 1, 0, 1],\n",
      "       [1, 0, 1, 0, 1, 0, 1, 0],\n",
      "       [0, 1, 0, 1, 0, 1, 0, 1],\n",
      "       [1, 0, 1, 0, 1, 0, 1, 0]], dtype=int32)\n"
     ]
    }
   ],
   "source": [
    "res = np.fromfunction(lambda x,y: (x+y)%2 ,(8,8), dtype=int)\n",
    "pprint(res)"
   ]
  },
  {
   "cell_type": "markdown",
   "metadata": {},
   "source": [
    "### Task 2"
   ]
  },
  {
   "cell_type": "code",
   "execution_count": 4,
   "metadata": {},
   "outputs": [
    {
     "name": "stdout",
     "output_type": "stream",
     "text": [
      "[[(0.  , 0.  ) (0.25, 0.  ) (0.5 , 0.  ) (0.75, 0.  ) (1.  , 0.  )]\n",
      " [(0.  , 0.25) (0.25, 0.25) (0.5 , 0.25) (0.75, 0.25) (1.  , 0.25)]\n",
      " [(0.  , 0.5 ) (0.25, 0.5 ) (0.5 , 0.5 ) (0.75, 0.5 ) (1.  , 0.5 )]\n",
      " [(0.  , 0.75) (0.25, 0.75) (0.5 , 0.75) (0.75, 0.75) (1.  , 0.75)]\n",
      " [(0.  , 1.  ) (0.25, 1.  ) (0.5 , 1.  ) (0.75, 1.  ) (1.  , 1.  )]]\n"
     ]
    }
   ],
   "source": [
    "res = np.fromfunction(lambda x,y: np.array((x/4, y/4)), (5,5))\n",
    "res = res.T.reshape((25,2))\n",
    "res = np.array(list(map(tuple, res)), dtype=np.dtype('float,float'))\n",
    "res = res.reshape((5,5))\n",
    "print(res)"
   ]
  },
  {
   "cell_type": "markdown",
   "metadata": {},
   "source": [
    "### Task3"
   ]
  },
  {
   "cell_type": "code",
   "execution_count": 5,
   "metadata": {},
   "outputs": [
    {
     "name": "stdout",
     "output_type": "stream",
     "text": [
      "[[1.09974667 0.52915086]\n",
      " [0.90518058 0.35929805]\n",
      " [0.70402064 0.78477779]\n",
      " [0.692082   0.7713466 ]\n",
      " [0.83910268 0.74454212]\n",
      " [0.74987693 0.11543642]\n",
      " [0.38541355 0.77136481]\n",
      " [1.13933078 0.69527442]\n",
      " [1.17401381 0.56294071]\n",
      " [1.00383131 0.24251397]]\n"
     ]
    }
   ],
   "source": [
    "res = np.random.rand(10,2)\n",
    "x,y = res[:,0], res[:,1]\n",
    "res[:, 0] = np.sqrt(x**2+y**2)\n",
    "res[:, 1] = np.arctan2(y,x)\n",
    "print(res)"
   ]
  },
  {
   "cell_type": "markdown",
   "metadata": {},
   "source": [
    "### Task 4"
   ]
  },
  {
   "cell_type": "code",
   "execution_count": 6,
   "metadata": {},
   "outputs": [
    {
     "name": "stdout",
     "output_type": "stream",
     "text": [
      "2\n"
     ]
    }
   ],
   "source": [
    "X = list(range(1,7))\n",
    "A = 2.4685\n",
    "array = np.array(X)\n",
    "print(array[np.abs(array-A).argmin()])"
   ]
  },
  {
   "cell_type": "markdown",
   "metadata": {},
   "source": [
    "### Task 5"
   ]
  },
  {
   "cell_type": "code",
   "execution_count": 7,
   "metadata": {},
   "outputs": [
    {
     "data": {
      "text/plain": [
       "array([[-3., -2., -1.,  0.,  1.,  2.,  3.],\n",
       "       [-3., -2., -1.,  0.,  1.,  2.,  3.],\n",
       "       [-3., -2., -1.,  0.,  1.,  2.,  3.]])"
      ]
     },
     "execution_count": 7,
     "metadata": {},
     "output_type": "execute_result"
    }
   ],
   "source": [
    "a = np.arange(21).reshape((3, 7))\n",
    "mean = np.mean(a, axis=1).reshape((3,1))\n",
    "ones = np.ones(a.shape)\n",
    "a - mean * ones"
   ]
  },
  {
   "cell_type": "markdown",
   "metadata": {},
   "source": [
    "### Task 6"
   ]
  },
  {
   "cell_type": "code",
   "execution_count": 8,
   "metadata": {},
   "outputs": [
    {
     "data": {
      "text/plain": [
       "array([[0.54705514, 0.        , 0.04236035, 0.        , 0.        ],\n",
       "       [0.        , 0.        , 0.        , 0.85712648, 0.        ],\n",
       "       [0.        , 0.        , 0.        , 0.87173327, 0.17021438],\n",
       "       [0.        , 0.91097487, 0.        , 0.        , 0.20980842],\n",
       "       [0.62154371, 0.29435467, 0.        , 0.51821322, 0.        ]])"
      ]
     },
     "execution_count": 8,
     "metadata": {},
     "output_type": "execute_result"
    }
   ],
   "source": [
    "elements = np.random.rand(10)\n",
    "zeros= np.zeros((5,5)).reshape((25))\n",
    "zeros[:len(elements)] = elements\n",
    "np.random.shuffle(zeros)\n",
    "res = zeros.reshape((5,5))\n",
    "res"
   ]
  },
  {
   "cell_type": "markdown",
   "metadata": {},
   "source": [
    "### Task 7"
   ]
  },
  {
   "cell_type": "code",
   "execution_count": 9,
   "metadata": {},
   "outputs": [
    {
     "data": {
      "text/plain": [
       "array([0., 7., 0., 6., 5., 0., 0., 0., 0., 3.])"
      ]
     },
     "execution_count": 9,
     "metadata": {},
     "output_type": "execute_result"
    }
   ],
   "source": [
    "X = [1,2,3,4,5,6]\n",
    "I = [1,3,9,3,4,1]\n",
    "x = np.zeros((max(I)+1))\n",
    "for idx_el,i in enumerate(I):\n",
    "    x[i]+=X[idx_el]\n",
    "x"
   ]
  },
  {
   "cell_type": "markdown",
   "metadata": {},
   "source": [
    "## Medium Level"
   ]
  },
  {
   "cell_type": "markdown",
   "metadata": {},
   "source": [
    "### Task 1"
   ]
  },
  {
   "cell_type": "code",
   "execution_count": 10,
   "metadata": {},
   "outputs": [
    {
     "name": "stdout",
     "output_type": "stream",
     "text": [
      "Before: \n",
      "array([[0.57768871, 0.40965763, 0.11204369, 0.4833966 , 0.11572839],\n",
      "       [0.34234818, 0.11703676, 0.05320172, 0.56577924, 0.11809645],\n",
      "       [0.83598526, 0.67236159, 0.37297267, 0.8632396 , 0.81657417],\n",
      "       [0.4490289 , 0.17604774, 0.60666992, 0.62730594, 0.79319833],\n",
      "       [0.71576801, 0.45036643, 0.17075879, 0.65817052, 0.74523167]])\n",
      "###########################################################################\n",
      "AFTER: \n",
      "array([[0.57768871, 0.40965763, 0.11204369, 0.4833966 , 0.11572839],\n",
      "       [0.34234818, 0.11703676, 0.05320172, 0.56577924, 0.11809645],\n",
      "       [0.4490289 , 0.17604774, 0.60666992, 0.62730594, 0.79319833],\n",
      "       [0.83598526, 0.67236159, 0.37297267, 0.8632396 , 0.81657417],\n",
      "       [0.71576801, 0.45036643, 0.17075879, 0.65817052, 0.74523167]])\n",
      "###########################################################################\n"
     ]
    }
   ],
   "source": [
    "a = np.random.rand(5,5)\n",
    "print('Before: ')\n",
    "pprint(a)\n",
    "print('#'*75)\n",
    "row_idx = 3,2\n",
    "a[row_idx[0]], a[row_idx[1]] = a[row_idx[1]], a[row_idx[0]].copy()\n",
    "print('AFTER: ')\n",
    "pprint(a)\n",
    "print('#'*75)"
   ]
  },
  {
   "cell_type": "markdown",
   "metadata": {},
   "source": [
    "### Task 2"
   ]
  },
  {
   "cell_type": "code",
   "execution_count": 44,
   "metadata": {},
   "outputs": [
    {
     "name": "stdout",
     "output_type": "stream",
     "text": [
      "[[0.42919985 0.29555047 0.         0.         0.48636845]\n",
      " [0.99762471 0.         0.         0.         0.        ]\n",
      " [0.         0.         0.         0.         0.        ]\n",
      " [0.         0.51258559 0.         0.         0.        ]\n",
      " [0.         0.46216394 0.         0.         0.        ]]\n",
      "zero columns: [2 3]\n"
     ]
    }
   ],
   "source": [
    "shape = (5,5)\n",
    "\n",
    "# generate array\n",
    "a = np.zeros((shape[0]*shape[1],))\n",
    "data = np.random.rand(10)\n",
    "a[:10] = data\n",
    "np.random.shuffle(a)\n",
    "a = a.reshape(shape)\n",
    "a[:,3] = np.zeros(shape[1])\n",
    "print(a)\n",
    "\n",
    "\n",
    "# processing \n",
    "res = np.argwhere(a == 0)[:,1]\n",
    "cnt = np.bincount(res)\n",
    "result_index = np.where(cnt == shape[1])[0]\n",
    "print(f'zero columns: {result_index}')"
   ]
  },
  {
   "cell_type": "markdown",
   "metadata": {},
   "source": [
    "### Task 3"
   ]
  },
  {
   "cell_type": "code",
   "execution_count": 12,
   "metadata": {},
   "outputs": [
    {
     "data": {
      "text/plain": [
       "array([1., 0., 0., 0., 2., 0., 0., 0., 3., 0., 0., 0., 4., 0., 0., 0., 5.])"
      ]
     },
     "execution_count": 12,
     "metadata": {},
     "output_type": "execute_result"
    }
   ],
   "source": [
    "a = [1, 2, 3, 4, 5]\n",
    "delta = 3\n",
    "def f(i):\n",
    "    return i + delta * (i)\n",
    "new_len = len(a)*(delta+1) - delta\n",
    "idx = np.fromfunction(f, (5,), dtype=int)\n",
    "res = np.zeros((new_len,))\n",
    "res[idx] = a\n",
    "res"
   ]
  },
  {
   "cell_type": "markdown",
   "metadata": {},
   "source": [
    "### Task 4"
   ]
  },
  {
   "cell_type": "code",
   "execution_count": 13,
   "metadata": {},
   "outputs": [
    {
     "data": {
      "text/plain": [
       "array([[1, 4, 6],\n",
       "       [1, 4, 7],\n",
       "       [1, 5, 6],\n",
       "       [1, 5, 7],\n",
       "       [2, 4, 6],\n",
       "       [2, 4, 7],\n",
       "       [2, 5, 6],\n",
       "       [2, 5, 7],\n",
       "       [3, 4, 6],\n",
       "       [3, 4, 7],\n",
       "       [3, 5, 6],\n",
       "       [3, 5, 7]])"
      ]
     },
     "execution_count": 13,
     "metadata": {},
     "output_type": "execute_result"
    }
   ],
   "source": [
    "X = ([1, 2, 3], [4, 5], [6, 7])\n",
    "\n",
    "arrays = [np.asarray(array) for array in X]\n",
    "lens_of_arrays = np.indices(map(len, arrays))\n",
    "lens_of_arrays = lens_of_arrays.reshape(len(arrays), -1).T\n",
    "res = np.zeros_like(lens_of_arrays)\n",
    "\n",
    "for idx, arr in enumerate(arrays):\n",
    "    res[:, idx] = arr[lens_of_arrays[:, idx]]\n",
    "    \n",
    "res"
   ]
  },
  {
   "cell_type": "markdown",
   "metadata": {},
   "source": [
    "### Task 5"
   ]
  },
  {
   "cell_type": "code",
   "execution_count": 14,
   "metadata": {},
   "outputs": [
    {
     "name": "stdout",
     "output_type": "stream",
     "text": [
      "[ 1.  2.  3.  4.  5.  6.  7.  8.  9. 10. 11. 12. 13. 14. 15. 16. 17. 18.]\n"
     ]
    }
   ],
   "source": [
    "def moving_average(array, n):\n",
    "    len_of_new_arr = array.shape[0] - (n - 1)\n",
    "    result = np.zeros(len_of_new_arr)\n",
    "    for idx in range(len_of_new_arr):\n",
    "        result[idx] = np.average(array[idx:idx+n])\n",
    "    return result\n",
    "\n",
    "Z = np.arange(20)\n",
    "print(moving_average(Z, n=3))"
   ]
  },
  {
   "cell_type": "markdown",
   "metadata": {},
   "source": [
    "## Advanced Level"
   ]
  },
  {
   "cell_type": "markdown",
   "metadata": {},
   "source": [
    "### Task 1"
   ]
  },
  {
   "cell_type": "code",
   "execution_count": 15,
   "metadata": {},
   "outputs": [
    {
     "name": "stdout",
     "output_type": "stream",
     "text": [
      "[[[[0.39315797 0.74045724]\n",
      "   [0.64501618 0.71996455]]\n",
      "\n",
      "  [[0.60486263 0.43236663]\n",
      "   [0.81616726 0.87945822]]]\n",
      "\n",
      "\n",
      " [[[0.18594877 0.95421768]\n",
      "   [0.7429538  0.90854151]]\n",
      "\n",
      "  [[0.59462992 0.0450754 ]\n",
      "   [0.64548852 0.84444432]]]]\n"
     ]
    },
    {
     "data": {
      "text/plain": [
       "array([[2.49859594, 2.73285473],\n",
       "       [2.79166175, 2.12963816]])"
      ]
     },
     "execution_count": 15,
     "metadata": {},
     "output_type": "execute_result"
    }
   ],
   "source": [
    "a = np.random.rand(2,2,2,2)\n",
    "res = a.sum( axis = (-2,-1))\n",
    "print(a)\n",
    "res"
   ]
  },
  {
   "cell_type": "markdown",
   "metadata": {},
   "source": [
    "### Task 2"
   ]
  },
  {
   "cell_type": "code",
   "execution_count": 91,
   "metadata": {},
   "outputs": [
    {
     "data": {
      "text/plain": [
       "4"
      ]
     },
     "execution_count": 91,
     "metadata": {},
     "output_type": "execute_result"
    }
   ],
   "source": [
    "shape = (16,16)\n",
    "a = np.random.randint(0,2,(*shape, 3), dtype=np.ubyte)\n",
    "res = I[...,0]*256*256 + I[...,1]*256 + I[...,2]\n",
    "len(np.unique(res))"
   ]
  },
  {
   "cell_type": "markdown",
   "metadata": {},
   "source": [
    "### Task 3"
   ]
  },
  {
   "cell_type": "code",
   "execution_count": 17,
   "metadata": {},
   "outputs": [
    {
     "data": {
      "text/plain": [
       "array([[0.        , 0.85977812, 0.17516107, ..., 0.8189419 , 0.20400476,\n",
       "        0.40410728],\n",
       "       [0.85977812, 0.        , 0.68756076, ..., 0.16565059, 0.69356362,\n",
       "        0.72262069],\n",
       "       [0.17516107, 0.68756076, 0.        , ..., 0.65757075, 0.07734851,\n",
       "        0.31336669],\n",
       "       ...,\n",
       "       [0.8189419 , 0.16565059, 0.65757075, ..., 0.        , 0.68189712,\n",
       "        0.764078  ],\n",
       "       [0.20400476, 0.69356362, 0.07734851, ..., 0.68189712, 0.        ,\n",
       "        0.23695201],\n",
       "       [0.40410728, 0.72262069, 0.31336669, ..., 0.764078  , 0.23695201,\n",
       "        0.        ]])"
      ]
     },
     "execution_count": 17,
     "metadata": {},
     "output_type": "execute_result"
    }
   ],
   "source": [
    "from scipy.spatial import distance\n",
    "a = np.random.rand(100,2)\n",
    "res = distance.cdist(a,a)\n",
    "res"
   ]
  },
  {
   "cell_type": "markdown",
   "metadata": {},
   "source": [
    "### Task 4"
   ]
  },
  {
   "cell_type": "code",
   "execution_count": 139,
   "metadata": {},
   "outputs": [
    {
     "name": "stdout",
     "output_type": "stream",
     "text": [
      "p = [[5.06132189 4.02236776]\n",
      " [9.02664001 6.97742882]\n",
      " [3.43027482 9.19335311]\n",
      " [6.41662866 7.63595755]\n",
      " [5.02194749 5.28594522]\n",
      " [7.74193489 5.865291  ]\n",
      " [0.25185775 3.41186996]]\n",
      "P0 = [[5.26764178 7.90048768]\n",
      " [5.7924938  0.73534358]\n",
      " [0.36376448 4.51694372]\n",
      " [7.11357431 8.68100049]\n",
      " [6.3751379  9.98650553]\n",
      " [3.90079891 1.49740195]\n",
      " [5.85853485 5.3500433 ]]\n",
      "P1 = [[0.9821597  6.21749845]\n",
      " [4.95977024 7.16305117]\n",
      " [9.33875992 8.73316033]\n",
      " [3.77091627 8.18664613]\n",
      " [4.67605559 6.62095109]\n",
      " [3.5413382  9.56627734]\n",
      " [9.32416007 4.23251648]]\n",
      "Distance =  [3.53431754 4.00931628 2.92877023 0.93183432 0.91042167 4.03172254\n",
      " 3.56532527]\n"
     ]
    }
   ],
   "source": [
    "def distance(p, P0, P1):\n",
    "    delta = P1-P0\n",
    "    lenght = (delta ** 2).sum(axis = 1)\n",
    "    dist = -((P0[:,0]-p[...,0])*delta[:,0] + (P0[:,1]-p[...,1])*delta[:,1]) / lenght\n",
    "    dist = dist.reshape(len(dist),1)\n",
    "    return np.sqrt(((P0 + dist*delta -p)**2).sum(axis=1)) \n",
    "\n",
    "\n",
    "p = np.random.uniform(0,10,(7,2))\n",
    "P0 = np.random.uniform(0,10,(7,2))\n",
    "P1 = np.random.uniform(0,10,(7,2))\n",
    "print(f\"p = {p}\")\n",
    "print(f\"P0 = {P0}\")\n",
    "print(f\"P1 = {P1}\")\n",
    "print(\"Distance = \",distance(p, P0, P1))"
   ]
  },
  {
   "cell_type": "markdown",
   "metadata": {},
   "source": [
    "### Task 5"
   ]
  },
  {
   "cell_type": "code",
   "execution_count": 41,
   "metadata": {},
   "outputs": [
    {
     "name": "stdout",
     "output_type": "stream",
     "text": [
      "[[0 0 0 0 0 0 0 0]\n",
      " [0 0 0 0 0 0 0 1]\n",
      " [0 0 0 0 0 0 1 0]\n",
      " [0 0 0 0 0 0 1 1]\n",
      " [0 0 0 0 1 1 1 1]\n",
      " [0 0 0 1 0 0 0 0]\n",
      " [0 0 1 0 0 0 0 0]\n",
      " [0 1 0 0 0 0 0 0]\n",
      " [1 0 0 0 0 0 0 0]]\n"
     ]
    }
   ],
   "source": [
    "def get_binary(x):\n",
    "    return list(np.binary_repr(x, width=8))\n",
    "I = np.array([0, 1, 2, 3, 15, 16, 32, 64, 128])\n",
    "res_list = np.array(list(map(get_binary,I)),dtype=int)\n",
    "print(res_list)"
   ]
  }
 ],
 "metadata": {
  "kernelspec": {
   "display_name": "Python 3",
   "language": "python",
   "name": "python3"
  },
  "language_info": {
   "codemirror_mode": {
    "name": "ipython",
    "version": 3
   },
   "file_extension": ".py",
   "mimetype": "text/x-python",
   "name": "python",
   "nbconvert_exporter": "python",
   "pygments_lexer": "ipython3",
   "version": "3.7.7"
  }
 },
 "nbformat": 4,
 "nbformat_minor": 4
}
